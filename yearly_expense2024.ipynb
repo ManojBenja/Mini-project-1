{
 "cells": [
  {
   "cell_type": "code",
   "execution_count": 1,
   "metadata": {},
   "outputs": [
    {
     "name": "stdout",
     "output_type": "stream",
     "text": [
      "Data saved to Expenses_2024.xlsx\n",
      "Connected to MySQL Database.\n",
      "Processing data for month: 1\n",
      "Data for month 1 inserted successfully!\n",
      "Processing data for month: 2\n",
      "Data for month 2 inserted successfully!\n",
      "Processing data for month: 3\n",
      "Data for month 3 inserted successfully!\n",
      "Processing data for month: 4\n",
      "Data for month 4 inserted successfully!\n",
      "Processing data for month: 5\n",
      "Data for month 5 inserted successfully!\n",
      "Processing data for month: 6\n",
      "Data for month 6 inserted successfully!\n",
      "Processing data for month: 7\n",
      "Data for month 7 inserted successfully!\n",
      "Processing data for month: 8\n",
      "Data for month 8 inserted successfully!\n",
      "Processing data for month: 9\n",
      "Data for month 9 inserted successfully!\n",
      "Processing data for month: 10\n",
      "Data for month 10 inserted successfully!\n",
      "Processing data for month: 11\n",
      "Data for month 11 inserted successfully!\n",
      "Processing data for month: 12\n",
      "Data for month 12 inserted successfully!\n"
     ]
    }
   ],
   "source": [
    "from faker import Faker\n",
    "import random\n",
    "import pandas as pd\n",
    "from openpyxl import Workbook\n",
    "from openpyxl.utils.dataframe import dataframe_to_rows\n",
    "from datetime import datetime\n",
    "import pymysql\n",
    "from sqlalchemy import create_engine\n",
    "from operator import itemgetter\n",
    "import openpyxl\n",
    "import matplotlib.pyplot as plt \n",
    "import seaborn as sns\n",
    "\n",
    "# Initialize Faker\n",
    "fake = Faker()\n",
    "\n",
    "# Categories, payment modes, and descriptions\n",
    "Category = [\"Stationaries\", \"Bills\", \"Groceries\", \"Subscriptions\"]\n",
    "Payment_Mode = [\"Cash\", \"Credit card\", \"Debit card\", \"Net banking\", \"UPI\"]\n",
    "Name = [\"Arun\", \"Balu\", \"Cynthia\", \"Devi\"]\n",
    "descriptions = {\n",
    "    \"Stationaries\": [\"Notes\", \"Papers\", \"pencil\", \"marker\"],\n",
    "    \"Subscriptions\": [\"Youtube\", \"Amazon\", \"Netflix\", \"Hotstar\"],\n",
    "    \"Bills\": [\"Water bill\", \"Electricity bill\", \"Telephone bill\", \"Mobile bill\"],\n",
    "    \"Groceries\": [\"Vegetables\", \"Fruits\", \"Milk\", \"Dairy products\"],\n",
    "}\n",
    "\n",
    "# Generate random expense data\n",
    "def gen_exp_data(num, start_date, end_date):\n",
    "    data = []\n",
    "    for _ in range(num):\n",
    "        category = random.choice(Category)\n",
    "        expense = {\n",
    "            \"Date\": fake.date_between_dates(date_start=start_date, date_end=end_date),\n",
    "            \"Name\": random.choice(Name),\n",
    "            \"Category\": category,\n",
    "            \"Payment_Mode\": random.choice(Payment_Mode),\n",
    "            \"Descriptions\": random.choice(descriptions[category]),\n",
    "            \"Amount\": round(random.uniform(10, 1000), 2),\n",
    "        }\n",
    "        data.append(expense)\n",
    "    return pd.DataFrame(data)\n",
    "\n",
    "# Months for generating data\n",
    "months = [\n",
    "    (\"Jan\", datetime(2024, 1, 1), datetime(2024, 1, 31)),\n",
    "    (\"Feb\", datetime(2024, 2, 1), datetime(2024, 2, 29)),\n",
    "    (\"Mar\", datetime(2024, 3, 1), datetime(2024, 3, 31)),\n",
    "    (\"Apr\", datetime(2024, 4, 1), datetime(2024, 4, 30)),\n",
    "    (\"May\", datetime(2024, 5, 1), datetime(2024, 5, 31)),\n",
    "    (\"Jun\", datetime(2024, 6, 1), datetime(2024, 6, 30)),\n",
    "    (\"Jul\", datetime(2024, 7, 1), datetime(2024, 7, 31)),\n",
    "    (\"Aug\", datetime(2024, 8, 1), datetime(2024, 8, 31)),\n",
    "    (\"Sep\", datetime(2024, 9, 1), datetime(2024, 9, 30)),\n",
    "    (\"Oct\", datetime(2024, 10, 1), datetime(2024, 10, 31)),\n",
    "    (\"Nov\", datetime(2024, 11, 1), datetime(2024, 11, 30)),\n",
    "    (\"Dec\", datetime(2024, 12, 1), datetime(2024, 12, 31)),\n",
    "]\n",
    "\n",
    "# Save generated data to Excel\n",
    "path = \"Expenses_2024.xlsx\"\n",
    "all_data = []\n",
    "headers = [\"Date\", \"Name\", \"Category\", \"Payment_Mode\", \"Descriptions\", \"Amount\"]\n",
    "\n",
    "# Generate data for all months\n",
    "for month, start_date, end_date in months:\n",
    "    df = gen_exp_data(150, start_date, end_date)\n",
    "    all_data.append(df)\n",
    "\n",
    "# Combine all months' data and save to Excel\n",
    "combined_df = pd.concat(all_data).sort_values(by=\"Date\")\n",
    "combined_df.to_excel(path, index=False, sheet_name=\"Expenses\")\n",
    "print(f\"Data saved to {path}\")\n",
    "\n",
    "# MySQL Database Setup\n",
    "connection = pymysql.connect(\n",
    "    host=\"localhost\",\n",
    "    user=\"root\",\n",
    "    password=\"Manoj@1146\",\n",
    "    autocommit=True,\n",
    "    database=\"sqlpython1\",\n",
    ")\n",
    "print(\"Connected to MySQL Database.\")\n",
    "\n",
    "mycursor = connection.cursor()\n",
    "mycursor.execute(\"\"\"\n",
    "CREATE TABLE IF NOT EXISTS yearly_expenses (\n",
    "    Date DATE,\n",
    "    Name VARCHAR(255),\n",
    "    Category VARCHAR(255),\n",
    "    Payment_Mode VARCHAR(255),\n",
    "    Description VARCHAR(255),\n",
    "    Amount DECIMAL(10, 2)\n",
    ")\n",
    "\"\"\")\n",
    "\n",
    "# Insert data into MySQL\n",
    "combined_df.rename(columns={\"Descriptions\": \"Description\"}, inplace=True)\n",
    "query = \"\"\"\n",
    "INSERT INTO yearly_expenses (Date, Name, Category, Payment_Mode, Description, Amount)\n",
    "VALUES (%s, %s, %s, %s, %s, %s)\n",
    "\"\"\"\n",
    "\n",
    "# Ensure 'Date' column is in datetime.date format\n",
    "combined_df[\"Date\"] = pd.to_datetime(combined_df[\"Date\"]).dt.date\n",
    "\n",
    "# Process and insert data month by month\n",
    "for month in range(1, 13):\n",
    "    print(f\"Processing data for month: {month}\")\n",
    "\n",
    "    month_data = combined_df[combined_df[\"Date\"].apply(lambda x: x.month) == month]\n",
    "    if not month_data.empty:\n",
    "        data_to_insert = month_data[\n",
    "            [\"Date\", \"Name\", \"Category\", \"Payment_Mode\", \"Description\", \"Amount\"]\n",
    "        ].to_records(index=False).tolist()\n",
    "        try:\n",
    "            mycursor.executemany(query, data_to_insert)\n",
    "            connection.commit()\n",
    "            print(f\"Data for month {month} inserted successfully!\")\n",
    "        except Exception as e:\n",
    "            print(f\"Error inserting data for month {month}: {e}\")\n",
    "    else:\n",
    "        print(f\"No data found for month {month}. Skipping.\")"
   ]
  },
  {
   "cell_type": "code",
   "execution_count": 2,
   "metadata": {},
   "outputs": [
    {
     "name": "stdout",
     "output_type": "stream",
     "text": [
      "<class 'pandas.core.frame.DataFrame'>\n",
      "Index: 1800 entries, 78 to 140\n",
      "Data columns (total 6 columns):\n",
      " #   Column        Non-Null Count  Dtype  \n",
      "---  ------        --------------  -----  \n",
      " 0   Date          1800 non-null   object \n",
      " 1   Name          1800 non-null   object \n",
      " 2   Category      1800 non-null   object \n",
      " 3   Payment_Mode  1800 non-null   object \n",
      " 4   Description   1800 non-null   object \n",
      " 5   Amount        1800 non-null   float64\n",
      "dtypes: float64(1), object(5)\n",
      "memory usage: 98.4+ KB\n",
      "None\n",
      "           Date  Name       Category Payment_Mode Description  Amount\n",
      "78   2024-01-01  Arun   Stationaries  Credit card       Notes  664.79\n",
      "126  2024-01-01  Arun  Subscriptions  Net banking      Amazon  760.50\n",
      "144  2024-01-01  Arun  Subscriptions         Cash     Hotstar  738.78\n",
      "17   2024-01-01  Balu  Subscriptions          UPI     Youtube  899.09\n",
      "14   2024-01-01  Balu          Bills          UPI  Water bill  530.14\n",
      "            Amount\n",
      "count  1800.000000\n",
      "mean    515.420206\n",
      "std     282.625260\n",
      "min      10.020000\n",
      "25%     275.980000\n",
      "50%     527.370000\n",
      "75%     758.210000\n",
      "max     998.590000\n"
     ]
    }
   ],
   "source": [
    "# Basic information about the dataset\n",
    "print(combined_df.info())\n",
    "\n",
    "# Check the first few rows\n",
    "print(combined_df.head())\n",
    "\n",
    "# Summary statistics for numerical columns\n",
    "print(combined_df.describe())"
   ]
  },
  {
   "cell_type": "code",
   "execution_count": 3,
   "metadata": {},
   "outputs": [
    {
     "name": "stdout",
     "output_type": "stream",
     "text": [
      "Missing values:\n",
      " Date            0\n",
      "Name            0\n",
      "Category        0\n",
      "Payment_Mode    0\n",
      "Description     0\n",
      "Amount          0\n",
      "dtype: int64\n",
      "Number of duplicate rows: 0\n",
      "Invalid amounts:\n",
      " Empty DataFrame\n",
      "Columns: [Date, Name, Category, Payment_Mode, Description, Amount]\n",
      "Index: []\n"
     ]
    }
   ],
   "source": [
    "# Check for missing values\n",
    "missing_values = combined_df.isnull().sum()\n",
    "print(\"Missing values:\\n\", missing_values)\n",
    "\n",
    "# Check for duplicates\n",
    "duplicates = combined_df.duplicated().sum()\n",
    "print(f\"Number of duplicate rows: {duplicates}\")\n",
    "\n",
    "# Check for negative or zero values in Amount\n",
    "invalid_amounts = combined_df[combined_df[\"Amount\"] <= 0]\n",
    "print(\"Invalid amounts:\\n\", invalid_amounts)"
   ]
  },
  {
   "cell_type": "code",
   "execution_count": 4,
   "metadata": {},
   "outputs": [
    {
     "name": "stdout",
     "output_type": "stream",
     "text": [
      "Total spending: ₹927756.37\n",
      "Average spending per transaction: ₹515.42\n",
      "Spending by Category:\n",
      " Category\n",
      "Bills            224924.54\n",
      "Groceries        243606.32\n",
      "Stationaries     220209.17\n",
      "Subscriptions    239016.34\n",
      "Name: Amount, dtype: float64\n",
      "Spending by Payment Mode:\n",
      " Payment_Mode\n",
      "Cash           207532.73\n",
      "Credit card    175505.65\n",
      "Debit card     196764.88\n",
      "Net banking    173928.18\n",
      "UPI            174024.93\n",
      "Name: Amount, dtype: float64\n",
      "Spending by Person:\n",
      " Name\n",
      "Arun       239579.42\n",
      "Balu       222081.24\n",
      "Cynthia    218563.43\n",
      "Devi       247532.28\n",
      "Name: Amount, dtype: float64\n"
     ]
    }
   ],
   "source": [
    "# Total and average spending\n",
    "total_spending = combined_df[\"Amount\"].sum()\n",
    "average_spending = combined_df[\"Amount\"].mean()\n",
    "print(f\"Total spending: ₹{total_spending:.2f}\")\n",
    "print(f\"Average spending per transaction: ₹{average_spending:.2f}\")\n",
    "\n",
    "# Spending by category\n",
    "spending_by_category = combined_df.groupby(\"Category\")[\"Amount\"].sum()\n",
    "print(\"Spending by Category:\\n\", spending_by_category)\n",
    "\n",
    "# Spending by payment mode\n",
    "spending_by_payment = combined_df.groupby(\"Payment_Mode\")[\"Amount\"].sum()\n",
    "print(\"Spending by Payment Mode:\\n\", spending_by_payment)\n",
    "\n",
    "# Spending by person\n",
    "spending_by_person = combined_df.groupby(\"Name\")[\"Amount\"].sum()\n",
    "print(\"Spending by Person:\\n\", spending_by_person)"
   ]
  },
  {
   "cell_type": "code",
   "execution_count": 5,
   "metadata": {},
   "outputs": [
    {
     "name": "stderr",
     "output_type": "stream",
     "text": [
      "C:\\Users\\HP\\AppData\\Local\\Temp\\ipykernel_2616\\3206685597.py:3: FutureWarning: \n",
      "\n",
      "Passing `palette` without assigning `hue` is deprecated and will be removed in v0.14.0. Assign the `x` variable to `hue` and set `legend=False` for the same effect.\n",
      "\n",
      "  sns.barplot(x=spending_by_category.index, y=spending_by_category.values, palette=\"viridis\")\n"
     ]
    },
    {
     "data": {
      "image/png": "[encoded data removed]",
      "text/plain": [
       "<Figure size 1000x600 with 1 Axes>"
      ]
     },
     "metadata": {},
     "output_type": "display_data"
    }
   ],
   "source": [
    "# Bar plot for spending by category\n",
    "plt.figure(figsize=(10, 6))\n",
    "sns.barplot(x=spending_by_category.index, y=spending_by_category.values, palette=\"viridis\")\n",
    "plt.title(\"Spending by Category\")\n",
    "plt.xlabel(\"Category\")\n",
    "plt.ylabel(\"Total Spending (₹)\")\n",
    "plt.xticks(rotation=45)\n",
    "plt.show()"
   ]
  },
  {
   "cell_type": "code",
   "execution_count": 6,
   "metadata": {},
   "outputs": [
    {
     "data": {
      "image/png": "[encoded data removed]",
      "text/plain": [
       "<Figure size 800x800 with 1 Axes>"
      ]
     },
     "metadata": {},
     "output_type": "display_data"
    }
   ],
   "source": [
    "# Pie chart for spending by payment mode\n",
    "plt.figure(figsize=(8, 8))\n",
    "spending_by_payment.plot(kind=\"pie\", autopct=\"%.1f%%\", startangle=90, cmap=\"tab20\")\n",
    "plt.title(\"Spending by Payment Mode\")\n",
    "plt.ylabel(\"\")  # Remove default y-axis label\n",
    "plt.show()"
   ]
  },
  {
   "cell_type": "code",
   "execution_count": 7,
   "metadata": {},
   "outputs": [
    {
     "name": "stdout",
     "output_type": "stream",
     "text": [
      "Dataset Info:\n",
      "<class 'pandas.core.frame.DataFrame'>\n",
      "Index: 1800 entries, 78 to 140\n",
      "Data columns (total 6 columns):\n",
      " #   Column        Non-Null Count  Dtype         \n",
      "---  ------        --------------  -----         \n",
      " 0   Date          1800 non-null   datetime64[ns]\n",
      " 1   Name          1800 non-null   object        \n",
      " 2   Category      1800 non-null   object        \n",
      " 3   Payment_Mode  1800 non-null   object        \n",
      " 4   Description   1800 non-null   object        \n",
      " 5   Amount        1800 non-null   float64       \n",
      "dtypes: datetime64[ns](1), float64(1), object(4)\n",
      "memory usage: 98.4+ KB\n",
      "None\n",
      "\n",
      "Missing Values:\n",
      " Date            0\n",
      "Name            0\n",
      "Category        0\n",
      "Payment_Mode    0\n",
      "Description     0\n",
      "Amount          0\n",
      "dtype: int64\n",
      "\n",
      "Statistical Summary:\n",
      "                        Date  Name   Category Payment_Mode Description  \\\n",
      "count                  1800  1800       1800         1800        1800   \n",
      "unique                  NaN     4          4            5          16   \n",
      "top                     NaN  Devi  Groceries         Cash     Youtube   \n",
      "freq                    NaN   479        482          395         132   \n",
      "mean    2024-06-30 14:23:12   NaN        NaN          NaN         NaN   \n",
      "min     2024-01-01 00:00:00   NaN        NaN          NaN         NaN   \n",
      "25%     2024-03-31 12:00:00   NaN        NaN          NaN         NaN   \n",
      "50%     2024-06-30 00:00:00   NaN        NaN          NaN         NaN   \n",
      "75%     2024-09-29 12:00:00   NaN        NaN          NaN         NaN   \n",
      "max     2024-12-30 00:00:00   NaN        NaN          NaN         NaN   \n",
      "std                     NaN   NaN        NaN          NaN         NaN   \n",
      "\n",
      "             Amount  \n",
      "count   1800.000000  \n",
      "unique          NaN  \n",
      "top             NaN  \n",
      "freq            NaN  \n",
      "mean     515.420206  \n",
      "min       10.020000  \n",
      "25%      275.980000  \n",
      "50%      527.370000  \n",
      "75%      758.210000  \n",
      "max      998.590000  \n",
      "std      282.625260  \n",
      "\n",
      "Sample Data:\n",
      "           Date  Name       Category Payment_Mode Description  Amount\n",
      "78  2024-01-01  Arun   Stationaries  Credit card       Notes  664.79\n",
      "126 2024-01-01  Arun  Subscriptions  Net banking      Amazon  760.50\n",
      "144 2024-01-01  Arun  Subscriptions         Cash     Hotstar  738.78\n",
      "17  2024-01-01  Balu  Subscriptions          UPI     Youtube  899.09\n",
      "14  2024-01-01  Balu          Bills          UPI  Water bill  530.14\n"
     ]
    },
    {
     "data": {
      "image/png": "[encoded data removed]",
      "text/plain": [
       "<Figure size 1000x600 with 1 Axes>"
      ]
     },
     "metadata": {},
     "output_type": "display_data"
    },
    {
     "name": "stderr",
     "output_type": "stream",
     "text": [
      "C:\\Users\\HP\\AppData\\Local\\Temp\\ipykernel_2616\\423168184.py:37: FutureWarning: \n",
      "\n",
      "Passing `palette` without assigning `hue` is deprecated and will be removed in v0.14.0. Assign the `x` variable to `hue` and set `legend=False` for the same effect.\n",
      "\n",
      "  sns.boxplot(x='Category', y='Amount', data=df, palette=\"Set3\")\n"
     ]
    },
    {
     "data": {
      "image/png": "[encoded data removed]",
      "text/plain": [
       "<Figure size 1200x600 with 1 Axes>"
      ]
     },
     "metadata": {},
     "output_type": "display_data"
    },
    {
     "data": {
      "image/png": "[encoded data removed]",
      "text/plain": [
       "<Figure size 1200x600 with 1 Axes>"
      ]
     },
     "metadata": {},
     "output_type": "display_data"
    },
    {
     "name": "stderr",
     "output_type": "stream",
     "text": [
      "C:\\Users\\HP\\AppData\\Local\\Temp\\ipykernel_2616\\423168184.py:64: FutureWarning: \n",
      "\n",
      "Passing `palette` without assigning `hue` is deprecated and will be removed in v0.14.0. Assign the `x` variable to `hue` and set `legend=False` for the same effect.\n",
      "\n",
      "  sns.barplot(x='Month', y='Amount', data=monthly_spending, palette=\"viridis\")\n"
     ]
    },
    {
     "data": {
      "image/png": "[encoded data removed]",
      "text/plain": [
       "<Figure size 1200x600 with 1 Axes>"
      ]
     },
     "metadata": {},
     "output_type": "display_data"
    },
    {
     "name": "stderr",
     "output_type": "stream",
     "text": [
      "C:\\Users\\HP\\AppData\\Local\\Temp\\ipykernel_2616\\423168184.py:81: FutureWarning: \n",
      "\n",
      "Passing `palette` without assigning `hue` is deprecated and will be removed in v0.14.0. Assign the `y` variable to `hue` and set `legend=False` for the same effect.\n",
      "\n",
      "  sns.barplot(data=category_spending, x='Amount', y='Category', palette=\"Blues_r\")\n"
     ]
    },
    {
     "data": {
      "image/png": "[encoded data removed]",
      "text/plain": [
       "<Figure size 1000x600 with 1 Axes>"
      ]
     },
     "metadata": {},
     "output_type": "display_data"
    },
    {
     "name": "stderr",
     "output_type": "stream",
     "text": [
      "C:\\Users\\HP\\AppData\\Local\\Temp\\ipykernel_2616\\423168184.py:90: FutureWarning: \n",
      "\n",
      "Passing `palette` without assigning `hue` is deprecated and will be removed in v0.14.0. Assign the `y` variable to `hue` and set `legend=False` for the same effect.\n",
      "\n",
      "  sns.barplot(data=payment_mode_spending, x='Amount', y='Payment_Mode', palette=\"Purples_r\")\n"
     ]
    },
    {
     "data": {
      "image/png": "[encoded data removed]",
      "text/plain": [
       "<Figure size 1000x600 with 1 Axes>"
      ]
     },
     "metadata": {},
     "output_type": "display_data"
    },
    {
     "name": "stderr",
     "output_type": "stream",
     "text": [
      "C:\\Users\\HP\\AppData\\Local\\Temp\\ipykernel_2616\\423168184.py:99: FutureWarning: \n",
      "\n",
      "Passing `palette` without assigning `hue` is deprecated and will be removed in v0.14.0. Assign the `y` variable to `hue` and set `legend=False` for the same effect.\n",
      "\n",
      "  sns.barplot(data=name_spending, x='Amount', y='Name', palette=\"Greens_r\")\n"
     ]
    },
    {
     "data": {
      "image/png": "[encoded data removed]",
      "text/plain": [
       "<Figure size 1000x600 with 1 Axes>"
      ]
     },
     "metadata": {},
     "output_type": "display_data"
    },
    {
     "data": {
      "image/png": "[encoded data removed]",
      "text/plain": [
       "<Figure size 800x600 with 2 Axes>"
      ]
     },
     "metadata": {},
     "output_type": "display_data"
    },
    {
     "name": "stderr",
     "output_type": "stream",
     "text": [
      "C:\\Users\\HP\\AppData\\Local\\Temp\\ipykernel_2616\\423168184.py:127: FutureWarning: \n",
      "\n",
      "Passing `palette` without assigning `hue` is deprecated and will be removed in v0.14.0. Assign the `y` variable to `hue` and set `legend=False` for the same effect.\n",
      "\n",
      "  sns.boxplot(data=df, x='Amount', palette=\"Set2\")\n"
     ]
    },
    {
     "data": {
      "image/png": "[encoded data removed]",
      "text/plain": [
       "<Figure size 1000x600 with 1 Axes>"
      ]
     },
     "metadata": {},
     "output_type": "display_data"
    },
    {
     "data": {
      "application/vnd.plotly.v1+json": {
       "config": {
        "plotlyServerURL": "https://plot.ly"
       },
       "data": [
        {
         "alignmentgroup": "True",
         "hovertemplate": "Category=%{x}<br>Amount=%{y}<extra></extra>",
         "legendgroup": "Bills",
         "marker": {
          "color": "#636efa",
          "pattern": {
           "shape": ""
          }
         },
         "name": "Bills",
         "offsetgroup": "Bills",
         "orientation": "v",
         "showlegend": true,
         "textposition": "auto",
         "type": "bar",
         "x": [
          "Bills"
         ],
         "xaxis": "x",
         "y": [
          224924.54
         ],
         "yaxis": "y"
        },
        {
         "alignmentgroup": "True",
         "hovertemplate": "Category=%{x}<br>Amount=%{y}<extra></extra>",
         "legendgroup": "Groceries",
         "marker": {
          "color": "#EF553B",
          "pattern": {
           "shape": ""
          }
         },
         "name": "Groceries",
         "offsetgroup": "Groceries",
         "orientation": "v",
         "showlegend": true,
         "textposition": "auto",
         "type": "bar",
         "x": [
          "Groceries"
         ],
         "xaxis": "x",
         "y": [
          243606.32
         ],
         "yaxis": "y"
        },
        {
         "alignmentgroup": "True",
         "hovertemplate": "Category=%{x}<br>Amount=%{y}<extra></extra>",
         "legendgroup": "Stationaries",
         "marker": {
          "color": "#00cc96",
          "pattern": {
           "shape": ""
          }
         },
         "name": "Stationaries",
         "offsetgroup": "Stationaries",
         "orientation": "v",
         "showlegend": true,
         "textposition": "auto",
         "type": "bar",
         "x": [
          "Stationaries"
         ],
         "xaxis": "x",
         "y": [
          220209.17
         ],
         "yaxis": "y"
        },
        {
         "alignmentgroup": "True",
         "hovertemplate": "Category=%{x}<br>Amount=%{y}<extra></extra>",
         "legendgroup": "Subscriptions",
         "marker": {
          "color": "#ab63fa",
          "pattern": {
           "shape": ""
          }
         },
         "name": "Subscriptions",
         "offsetgroup": "Subscriptions",
         "orientation": "v",
         "showlegend": true,
         "textposition": "auto",
         "type": "bar",
         "x": [
          "Subscriptions"
         ],
         "xaxis": "x",
         "y": [
          239016.34
         ],
         "yaxis": "y"
        }
       ],
       "layout": {
        "barmode": "relative",
        "legend": {
         "title": {
          "text": "Category"
         },
         "tracegroupgap": 0
        },
        "template": {
         "data": {
          "bar": [
           {
            "error_x": {
             "color": "#2a3f5f"
            },
            "error_y": {
             "color": "#2a3f5f"
            },
            "marker": {
             "line": {
              "color": "#E5ECF6",
              "width": 0.5
             },
             "pattern": {
              "fillmode": "overlay",
              "size": 10,
              "solidity": 0.2
             }
            },
            "type": "bar"
           }
          ],
          "barpolar": [
           {
            "marker": {
             "line": {
              "color": "#E5ECF6",
              "width": 0.5
             },
             "pattern": {
              "fillmode": "overlay",
              "size": 10,
              "solidity": 0.2
             }
            },
            "type": "barpolar"
           }
          ],
          "carpet": [
           {
            "aaxis": {
             "endlinecolor": "#2a3f5f",
             "gridcolor": "white",
             "linecolor": "white",
             "minorgridcolor": "white",
             "startlinecolor": "#2a3f5f"
            },
            "baxis": {
             "endlinecolor": "#2a3f5f",
             "gridcolor": "white",
             "linecolor": "white",
             "minorgridcolor": "white",
             "startlinecolor": "#2a3f5f"
            },
            "type": "carpet"
           }
          ],
          "choropleth": [
           {
            "colorbar": {
             "outlinewidth": 0,
             "ticks": ""
            },
            "type": "choropleth"
           }
          ],
          "contour": [
           {
            "colorbar": {
             "outlinewidth": 0,
             "ticks": ""
            },
            "colorscale": [
             [
              0,
              "#0d0887"
             ],
             [
              0.1111111111111111,
              "#46039f"
             ],
             [
              0.2222222222222222,
              "#7201a8"
             ],
             [
              0.3333333333333333,
              "#9c179e"
             ],
             [
              0.4444444444444444,
              "#bd3786"
             ],
             [
              0.5555555555555556,
              "#d8576b"
             ],
             [
              0.6666666666666666,
              "#ed7953"
             ],
             [
              0.7777777777777778,
              "#fb9f3a"
             ],
             [
              0.8888888888888888,
              "#fdca26"
             ],
             [
              1,
              "#f0f921"
             ]
            ],
            "type": "contour"
           }
          ],
          "contourcarpet": [
           {
            "colorbar": {
             "outlinewidth": 0,
             "ticks": ""
            },
            "type": "contourcarpet"
           }
          ],
          "heatmap": [
           {
            "colorbar": {
             "outlinewidth": 0,
             "ticks": ""
            },
            "colorscale": [
             [
              0,
              "#0d0887"
             ],
             [
              0.1111111111111111,
              "#46039f"
             ],
             [
              0.2222222222222222,
              "#7201a8"
             ],
             [
              0.3333333333333333,
              "#9c179e"
             ],
             [
              0.4444444444444444,
              "#bd3786"
             ],
             [
              0.5555555555555556,
              "#d8576b"
             ],
             [
              0.6666666666666666,
              "#ed7953"
             ],
             [
              0.7777777777777778,
              "#fb9f3a"
             ],
             [
              0.8888888888888888,
              "#fdca26"
             ],
             [
              1,
              "#f0f921"
             ]
            ],
            "type": "heatmap"
           }
          ],
          "heatmapgl": [
           {
            "colorbar": {
             "outlinewidth": 0,
             "ticks": ""
            },
            "colorscale": [
             [
              0,
              "#0d0887"
             ],
             [
              0.1111111111111111,
              "#46039f"
             ],
             [
              0.2222222222222222,
              "#7201a8"
             ],
             [
              0.3333333333333333,
              "#9c179e"
             ],
             [
              0.4444444444444444,
              "#bd3786"
             ],
             [
              0.5555555555555556,
              "#d8576b"
             ],
             [
              0.6666666666666666,
              "#ed7953"
             ],
             [
              0.7777777777777778,
              "#fb9f3a"
             ],
             [
              0.8888888888888888,
              "#fdca26"
             ],
             [
              1,
              "#f0f921"
             ]
            ],
            "type": "heatmapgl"
           }
          ],
          "histogram": [
           {
            "marker": {
             "pattern": {
              "fillmode": "overlay",
              "size": 10,
              "solidity": 0.2
             }
            },
            "type": "histogram"
           }
          ],
          "histogram2d": [
           {
            "colorbar": {
             "outlinewidth": 0,
             "ticks": ""
            },
            "colorscale": [
             [
              0,
              "#0d0887"
             ],
             [
              0.1111111111111111,
              "#46039f"
             ],
             [
              0.2222222222222222,
              "#7201a8"
             ],
             [
              0.3333333333333333,
              "#9c179e"
             ],
             [
              0.4444444444444444,
              "#bd3786"
             ],
             [
              0.5555555555555556,
              "#d8576b"
             ],
             [
              0.6666666666666666,
              "#ed7953"
             ],
             [
              0.7777777777777778,
              "#fb9f3a"
             ],
             [
              0.8888888888888888,
              "#fdca26"
             ],
             [
              1,
              "#f0f921"
             ]
            ],
            "type": "histogram2d"
           }
          ],
          "histogram2dcontour": [
           {
            "colorbar": {
             "outlinewidth": 0,
             "ticks": ""
            },
            "colorscale": [
             [
              0,
              "#0d0887"
             ],
             [
              0.1111111111111111,
              "#46039f"
             ],
             [
              0.2222222222222222,
              "#7201a8"
             ],
             [
              0.3333333333333333,
              "#9c179e"
             ],
             [
              0.4444444444444444,
              "#bd3786"
             ],
             [
              0.5555555555555556,
              "#d8576b"
             ],
             [
              0.6666666666666666,
              "#ed7953"
             ],
             [
              0.7777777777777778,
              "#fb9f3a"
             ],
             [
              0.8888888888888888,
              "#fdca26"
             ],
             [
              1,
              "#f0f921"
             ]
            ],
            "type": "histogram2dcontour"
           }
          ],
          "mesh3d": [
           {
            "colorbar": {
             "outlinewidth": 0,
             "ticks": ""
            },
            "type": "mesh3d"
           }
          ],
          "parcoords": [
           {
            "line": {
             "colorbar": {
              "outlinewidth": 0,
              "ticks": ""
             }
            },
            "type": "parcoords"
           }
          ],
          "pie": [
           {
            "automargin": true,
            "type": "pie"
           }
          ],
          "scatter": [
           {
            "fillpattern": {
             "fillmode": "overlay",
             "size": 10,
             "solidity": 0.2
            },
            "type": "scatter"
           }
          ],
          "scatter3d": [
           {
            "line": {
             "colorbar": {
              "outlinewidth": 0,
              "ticks": ""
             }
            },
            "marker": {
             "colorbar": {
              "outlinewidth": 0,
              "ticks": ""
             }
            },
            "type": "scatter3d"
           }
          ],
          "scattercarpet": [
           {
            "marker": {
             "colorbar": {
              "outlinewidth": 0,
              "ticks": ""
             }
            },
            "type": "scattercarpet"
           }
          ],
          "scattergeo": [
           {
            "marker": {
             "colorbar": {
              "outlinewidth": 0,
              "ticks": ""
             }
            },
            "type": "scattergeo"
           }
          ],
          "scattergl": [
           {
            "marker": {
             "colorbar": {
              "outlinewidth": 0,
              "ticks": ""
             }
            },
            "type": "scattergl"
           }
          ],
          "scattermapbox": [
           {
            "marker": {
             "colorbar": {
              "outlinewidth": 0,
              "ticks": ""
             }
            },
            "type": "scattermapbox"
           }
          ],
          "scatterpolar": [
           {
            "marker": {
             "colorbar": {
              "outlinewidth": 0,
              "ticks": ""
             }
            },
            "type": "scatterpolar"
           }
          ],
          "scatterpolargl": [
           {
            "marker": {
             "colorbar": {
              "outlinewidth": 0,
              "ticks": ""
             }
            },
            "type": "scatterpolargl"
           }
          ],
          "scatterternary": [
           {
            "marker": {
             "colorbar": {
              "outlinewidth": 0,
              "ticks": ""
             }
            },
            "type": "scatterternary"
           }
          ],
          "surface": [
           {
            "colorbar": {
             "outlinewidth": 0,
             "ticks": ""
            },
            "colorscale": [
             [
              0,
              "#0d0887"
             ],
             [
              0.1111111111111111,
              "#46039f"
             ],
             [
              0.2222222222222222,
              "#7201a8"
             ],
             [
              0.3333333333333333,
              "#9c179e"
             ],
             [
              0.4444444444444444,
              "#bd3786"
             ],
             [
              0.5555555555555556,
              "#d8576b"
             ],
             [
              0.6666666666666666,
              "#ed7953"
             ],
             [
              0.7777777777777778,
              "#fb9f3a"
             ],
             [
              0.8888888888888888,
              "#fdca26"
             ],
             [
              1,
              "#f0f921"
             ]
            ],
            "type": "surface"
           }
          ],
          "table": [
           {
            "cells": {
             "fill": {
              "color": "#EBF0F8"
             },
             "line": {
              "color": "white"
             }
            },
            "header": {
             "fill": {
              "color": "#C8D4E3"
             },
             "line": {
              "color": "white"
             }
            },
            "type": "table"
           }
          ]
         },
         "layout": {
          "annotationdefaults": {
           "arrowcolor": "#2a3f5f",
           "arrowhead": 0,
           "arrowwidth": 1
          },
          "autotypenumbers": "strict",
          "coloraxis": {
           "colorbar": {
            "outlinewidth": 0,
            "ticks": ""
           }
          },
          "colorscale": {
           "diverging": [
            [
             0,
             "#8e0152"
            ],
            [
             0.1,
             "#c51b7d"
            ],
            [
             0.2,
             "#de77ae"
            ],
            [
             0.3,
             "#f1b6da"
            ],
            [
             0.4,
             "#fde0ef"
            ],
            [
             0.5,
             "#f7f7f7"
            ],
            [
             0.6,
             "#e6f5d0"
            ],
            [
             0.7,
             "#b8e186"
            ],
            [
             0.8,
             "#7fbc41"
            ],
            [
             0.9,
             "#4d9221"
            ],
            [
             1,
             "#276419"
            ]
           ],
           "sequential": [
            [
             0,
             "#0d0887"
            ],
            [
             0.1111111111111111,
             "#46039f"
            ],
            [
             0.2222222222222222,
             "#7201a8"
            ],
            [
             0.3333333333333333,
             "#9c179e"
            ],
            [
             0.4444444444444444,
             "#bd3786"
            ],
            [
             0.5555555555555556,
             "#d8576b"
            ],
            [
             0.6666666666666666,
             "#ed7953"
            ],
            [
             0.7777777777777778,
             "#fb9f3a"
            ],
            [
             0.8888888888888888,
             "#fdca26"
            ],
            [
             1,
             "#f0f921"
            ]
           ],
           "sequentialminus": [
            [
             0,
             "#0d0887"
            ],
            [
             0.1111111111111111,
             "#46039f"
            ],
            [
             0.2222222222222222,
             "#7201a8"
            ],
            [
             0.3333333333333333,
             "#9c179e"
            ],
            [
             0.4444444444444444,
             "#bd3786"
            ],
            [
             0.5555555555555556,
             "#d8576b"
            ],
            [
             0.6666666666666666,
             "#ed7953"
            ],
            [
             0.7777777777777778,
             "#fb9f3a"
            ],
            [
             0.8888888888888888,
             "#fdca26"
            ],
            [
             1,
             "#f0f921"
            ]
           ]
          },
          "colorway": [
           "#636efa",
           "#EF553B",
           "#00cc96",
           "#ab63fa",
           "#FFA15A",
           "#19d3f3",
           "#FF6692",
           "#B6E880",
           "#FF97FF",
           "#FECB52"
          ],
          "font": {
           "color": "#2a3f5f"
          },
          "geo": {
           "bgcolor": "white",
           "lakecolor": "white",
           "landcolor": "#E5ECF6",
           "showlakes": true,
           "showland": true,
           "subunitcolor": "white"
          },
          "hoverlabel": {
           "align": "left"
          },
          "hovermode": "closest",
          "mapbox": {
           "style": "light"
          },
          "paper_bgcolor": "white",
          "plot_bgcolor": "#E5ECF6",
          "polar": {
           "angularaxis": {
            "gridcolor": "white",
            "linecolor": "white",
            "ticks": ""
           },
           "bgcolor": "#E5ECF6",
           "radialaxis": {
            "gridcolor": "white",
            "linecolor": "white",
            "ticks": ""
           }
          },
          "scene": {
           "xaxis": {
            "backgroundcolor": "#E5ECF6",
            "gridcolor": "white",
            "gridwidth": 2,
            "linecolor": "white",
            "showbackground": true,
            "ticks": "",
            "zerolinecolor": "white"
           },
           "yaxis": {
            "backgroundcolor": "#E5ECF6",
            "gridcolor": "white",
            "gridwidth": 2,
            "linecolor": "white",
            "showbackground": true,
            "ticks": "",
            "zerolinecolor": "white"
           },
           "zaxis": {
            "backgroundcolor": "#E5ECF6",
            "gridcolor": "white",
            "gridwidth": 2,
            "linecolor": "white",
            "showbackground": true,
            "ticks": "",
            "zerolinecolor": "white"
           }
          },
          "shapedefaults": {
           "line": {
            "color": "#2a3f5f"
           }
          },
          "ternary": {
           "aaxis": {
            "gridcolor": "white",
            "linecolor": "white",
            "ticks": ""
           },
           "baxis": {
            "gridcolor": "white",
            "linecolor": "white",
            "ticks": ""
           },
           "bgcolor": "#E5ECF6",
           "caxis": {
            "gridcolor": "white",
            "linecolor": "white",
            "ticks": ""
           }
          },
          "title": {
           "x": 0.05
          },
          "xaxis": {
           "automargin": true,
           "gridcolor": "white",
           "linecolor": "white",
           "ticks": "",
           "title": {
            "standoff": 15
           },
           "zerolinecolor": "white",
           "zerolinewidth": 2
          },
          "yaxis": {
           "automargin": true,
           "gridcolor": "white",
           "linecolor": "white",
           "ticks": "",
           "title": {
            "standoff": 15
           },
           "zerolinecolor": "white",
           "zerolinewidth": 2
          }
         }
        },
        "title": {
         "text": "Interactive Spending by Category"
        },
        "xaxis": {
         "anchor": "y",
         "categoryarray": [
          "Bills",
          "Groceries",
          "Stationaries",
          "Subscriptions"
         ],
         "categoryorder": "array",
         "domain": [
          0,
          1
         ],
         "title": {
          "text": "Category"
         }
        },
        "yaxis": {
         "anchor": "x",
         "domain": [
          0,
          1
         ],
         "title": {
          "text": "Amount"
         }
        }
       }
      }
     },
     "metadata": {},
     "output_type": "display_data"
    },
    {
     "data": {
      "application/vnd.plotly.v1+json": {
       "config": {
        "plotlyServerURL": "https://plot.ly"
       },
       "data": [
        {
         "domain": {
          "x": [
           0,
           1
          ],
          "y": [
           0,
           1
          ]
         },
         "hovertemplate": "Payment_Mode=%{label}<br>Amount=%{value}<extra></extra>",
         "labels": [
          "Credit card",
          "Net banking",
          "Cash",
          "UPI",
          "UPI",
          "Cash",
          "Net banking",
          "Credit card",
          "Net banking",
          "Credit card",
          "Debit card",
          "Debit card",
          "Debit card",
          "UPI",
          "UPI",
          "Net banking",
          "Net banking",
          "Cash",
          "Debit card",
          "Net banking",
          "Credit card",
          "Cash",
          "UPI",
          "UPI",
          "UPI",
          "UPI",
          "Debit card",
          "Cash",
          "Cash",
          "Debit card",
          "UPI",
          "Credit card",
          "Net banking",
          "Net banking",
          "Credit card",
          "Cash",
          "Debit card",
          "Debit card",
          "Credit card",
          "Cash",
          "Net banking",
          "Credit card",
          "Debit card",
          "UPI",
          "Debit card",
          "Cash",
          "Cash",
          "Net banking",
          "UPI",
          "Debit card",
          "Cash",
          "Credit card",
          "Net banking",
          "Net banking",
          "Credit card",
          "Debit card",
          "Cash",
          "Cash",
          "Cash",
          "Net banking",
          "Debit card",
          "UPI",
          "Cash",
          "Credit card",
          "UPI",
          "Net banking",
          "UPI",
          "Credit card",
          "Cash",
          "UPI",
          "Credit card",
          "UPI",
          "Net banking",
          "UPI",
          "UPI",
          "Cash",
          "UPI",
          "Net banking",
          "Credit card",
          "UPI",
          "Cash",
          "Net banking",
          "UPI",
          "Net banking",
          "Cash",
          "Credit card",
          "Net banking",
          "Debit card",
          "Debit card",
          "Credit card",
          "Credit card",
          "Cash",
          "UPI",
          "Cash",
          "Cash",
          "Cash",
          "Cash",
          "Net banking",
          "Net banking",
          "Debit card",
          "Net banking",
          "UPI",
          "Cash",
          "Credit card",
          "Credit card",
          "Credit card",
          "Net banking",
          "Net banking",
          "Net banking",
          "UPI",
          "Cash",
          "Debit card",
          "UPI",
          "Debit card",
          "Cash",
          "Net banking",
          "Debit card",
          "Net banking",
          "UPI",
          "UPI",
          "Credit card",
          "UPI",
          "Debit card",
          "UPI",
          "UPI",
          "Cash",
          "Debit card",
          "Credit card",
          "Credit card",
          "Debit card",
          "UPI",
          "Cash",
          "Net banking",
          "Cash",
          "Credit card",
          "Credit card",
          "Credit card",
          "Cash",
          "Net banking",
          "UPI",
          "Cash",
          "Cash",
          "Credit card",
          "Cash",
          "Cash",
          "Debit card",
          "Debit card",
          "Debit card",
          "UPI",
          "Debit card",
          "Cash",
          "Cash",
          "Debit card",
          "Debit card",
          "Cash",
          "Credit card",
          "Debit card",
          "UPI",
          "Credit card",
          "Cash",
          "Cash",
          "Debit card",
          "Cash",
          "Credit card",
          "Cash",
          "Credit card",
          "Debit card",
          "Debit card",
          "Debit card",
          "Debit card",
          "Debit card",
          "Net banking",
          "Net banking",
          "Net banking",
          "Net banking",
          "Debit card",
          "Credit card",
          "Cash",
          "UPI",
          "Debit card",
          "Cash",
          "Cash",
          "Net banking",
          "Debit card",
          "Cash",
          "Credit card",
          "Credit card",
          "Cash",
          "Net banking",
          "Credit card",
          "UPI",
          "Credit card",
          "Credit card",
          "Debit card",
          "Debit card",
          "UPI",
          "Debit card",
          "Net banking",
          "Debit card",
          "Net banking",
          "Debit card",
          "Cash",
          "Debit card",
          "Credit card",
          "Cash",
          "Net banking",
          "Credit card",
          "Credit card",
          "Credit card",
          "UPI",
          "Cash",
          "Credit card",
          "Credit card",
          "Net banking",
          "UPI",
          "Credit card",
          "Net banking",
          "Credit card",
          "Net banking",
          "Debit card",
          "Credit card",
          "Net banking",
          "Credit card",
          "Cash",
          "Net banking",
          "UPI",
          "UPI",
          "Debit card",
          "Net banking",
          "UPI",
          "Credit card",
          "Cash",
          "Debit card",
          "Debit card",
          "Credit card",
          "Debit card",
          "Cash",
          "Debit card",
          "Debit card",
          "Credit card",
          "Credit card",
          "Debit card",
          "Debit card",
          "Debit card",
          "Debit card",
          "UPI",
          "UPI",
          "Debit card",
          "Debit card",
          "Net banking",
          "Net banking",
          "Debit card",
          "Cash",
          "Credit card",
          "Net banking",
          "Net banking",
          "Debit card",
          "Net banking",
          "Cash",
          "Credit card",
          "Net banking",
          "Debit card",
          "Credit card",
          "Net banking",
          "Cash",
          "Net banking",
          "Credit card",
          "Debit card",
          "UPI",
          "Cash",
          "Credit card",
          "Credit card",
          "Net banking",
          "Credit card",
          "Cash",
          "Debit card",
          "Cash",
          "Credit card",
          "Debit card",
          "Cash",
          "Credit card",
          "Net banking",
          "Cash",
          "UPI",
          "Cash",
          "Credit card",
          "UPI",
          "UPI",
          "Credit card",
          "Credit card",
          "Cash",
          "Debit card",
          "UPI",
          "Net banking",
          "Debit card",
          "Net banking",
          "Credit card",
          "Credit card",
          "UPI",
          "UPI",
          "Debit card",
          "UPI",
          "Debit card",
          "Credit card",
          "UPI",
          "Net banking",
          "Credit card",
          "Net banking",
          "Net banking",
          "Credit card",
          "Cash",
          "Debit card",
          "Credit card",
          "Credit card",
          "UPI",
          "Debit card",
          "UPI",
          "Cash",
          "Net banking",
          "Net banking",
          "Cash",
          "Cash",
          "UPI",
          "Credit card",
          "UPI",
          "Cash",
          "UPI",
          "UPI",
          "Net banking",
          "Net banking",
          "Cash",
          "Debit card",
          "Debit card",
          "Cash",
          "Cash",
          "Credit card",
          "Debit card",
          "Cash",
          "UPI",
          "Cash",
          "Cash",
          "Debit card",
          "Credit card",
          "Cash",
          "Credit card",
          "Cash",
          "Cash",
          "UPI",
          "Net banking",
          "Cash",
          "Credit card",
          "Net banking",
          "Net banking",
          "Net banking",
          "Debit card",
          "Cash",
          "UPI",
          "Credit card",
          "Debit card",
          "Debit card",
          "UPI",
          "Credit card",
          "UPI",
          "Credit card",
          "UPI",
          "Credit card",
          "Cash",
          "Credit card",
          "UPI",
          "Cash",
          "Credit card",
          "Cash",
          "Cash",
          "Cash",
          "Debit card",
          "Debit card",
          "Debit card",
          "Cash",
          "Cash",
          "Debit card",
          "Credit card",
          "Debit card",
          "Credit card",
          "Debit card",
          "Net banking",
          "Net banking",
          "Debit card",
          "Credit card",
          "UPI",
          "Debit card",
          "Debit card",
          "Cash",
          "Credit card",
          "Cash",
          "Net banking",
          "Credit card",
          "UPI",
          "Cash",
          "Net banking",
          "Credit card",
          "Credit card",
          "Debit card",
          "Cash",
          "Net banking",
          "Cash",
          "UPI",
          "Cash",
          "Cash",
          "UPI",
          "Net banking",
          "Cash",
          "UPI",
          "Debit card",
          "Credit card",
          "UPI",
          "Debit card",
          "Cash",
          "Credit card",
          "Debit card",
          "Credit card",
          "Debit card",
          "Cash",
          "Debit card",
          "Net banking",
          "UPI",
          "Net banking",
          "Credit card",
          "Credit card",
          "Cash",
          "Debit card",
          "Credit card",
          "Cash",
          "UPI",
          "Debit card",
          "Cash",
          "Cash",
          "UPI",
          "Cash",
          "Cash",
          "Net banking",
          "Net banking",
          "UPI",
          "Debit card",
          "Credit card",
          "UPI",
          "UPI",
          "Debit card",
          "Net banking",
          "UPI",
          "Cash",
          "UPI",
          "Cash",
          "Debit card",
          "Cash",
          "Cash",
          "Net banking",
          "UPI",
          "Credit card",
          "UPI",
          "Credit card",
          "Cash",
          "Net banking",
          "UPI",
          "UPI",
          "Credit card",
          "Debit card",
          "Debit card",
          "Net banking",
          "Cash",
          "Debit card",
          "Debit card",
          "Net banking",
          "Credit card",
          "Net banking",
          "UPI",
          "Credit card",
          "Net banking",
          "Debit card",
          "Net banking",
          "UPI",
          "Cash",
          "UPI",
          "UPI",
          "Debit card",
          "Net banking",
          "Cash",
          "Cash",
          "Debit card",
          "Net banking",
          "Debit card",
          "UPI",
          "Net banking",
          "Cash",
          "Cash",
          "UPI",
          "Cash",
          "Credit card",
          "Debit card",
          "Cash",
          "Credit card",
          "Cash",
          "Debit card",
          "Debit card",
          "Debit card",
          "Net banking",
          "UPI",
          "UPI",
          "Net banking",
          "Debit card",
          "UPI",
          "UPI",
          "Net banking",
          "Net banking",
          "Cash",
          "UPI",
          "Cash",
          "Net banking",
          "Cash",
          "Debit card",
          "UPI",
          "Debit card",
          "Debit card",
          "Cash",
          "Credit card",
          "UPI",
          "UPI",
          "Cash",
          "Credit card",
          "Credit card",
          "UPI",
          "Debit card",
          "Net banking",
          "Cash",
          "UPI",
          "Credit card",
          "Debit card",
          "Cash",
          "UPI",
          "Credit card",
          "Debit card",
          "Credit card",
          "UPI",
          "Net banking",
          "Credit card",
          "Debit card",
          "UPI",
          "Cash",
          "Credit card",
          "UPI",
          "Net banking",
          "Credit card",
          "Cash",
          "Cash",
          "Cash",
          "Credit card",
          "Debit card",
          "Credit card",
          "Credit card",
          "Cash",
          "Debit card",
          "Debit card",
          "Net banking",
          "Credit card",
          "Credit card",
          "Credit card",
          "UPI",
          "UPI",
          "UPI",
          "Net banking",
          "Net banking",
          "Cash",
          "Debit card",
          "Debit card",
          "Credit card",
          "UPI",
          "Net banking",
          "Debit card",
          "UPI",
          "Credit card",
          "Credit card",
          "Debit card",
          "Cash",
          "Debit card",
          "Net banking",
          "Net banking",
          "UPI",
          "Credit card",
          "Cash",
          "UPI",
          "UPI",
          "UPI",
          "Net banking",
          "Net banking",
          "Debit card",
          "UPI",
          "Debit card",
          "Credit card",
          "Cash",
          "Cash",
          "Net banking",
          "Debit card",
          "Debit card",
          "Net banking",
          "Net banking",
          "Debit card",
          "Net banking",
          "UPI",
          "Credit card",
          "Debit card",
          "Credit card",
          "Cash",
          "Debit card",
          "UPI",
          "Credit card",
          "Net banking",
          "Credit card",
          "UPI",
          "Debit card",
          "Net banking",
          "UPI",
          "Debit card",
          "UPI",
          "Net banking",
          "Debit card",
          "Credit card",
          "Net banking",
          "Cash",
          "Net banking",
          "Net banking",
          "Credit card",
          "Cash",
          "Cash",
          "Cash",
          "Cash",
          "Net banking",
          "Credit card",
          "Cash",
          "Debit card",
          "Debit card",
          "Cash",
          "Net banking",
          "UPI",
          "Credit card",
          "Credit card",
          "Cash",
          "Cash",
          "UPI",
          "Debit card",
          "Debit card",
          "Credit card",
          "Net banking",
          "Credit card",
          "UPI",
          "Credit card",
          "Net banking",
          "Credit card",
          "Net banking",
          "Net banking",
          "Cash",
          "Credit card",
          "Cash",
          "Debit card",
          "Credit card",
          "Net banking",
          "Net banking",
          "UPI",
          "Credit card",
          "Debit card",
          "UPI",
          "Debit card",
          "Credit card",
          "Cash",
          "Credit card",
          "Cash",
          "Credit card",
          "UPI",
          "UPI",
          "Net banking",
          "UPI",
          "Net banking",
          "Credit card",
          "UPI",
          "Credit card",
          "Net banking",
          "Credit card",
          "UPI",
          "Debit card",
          "Debit card",
          "UPI",
          "Net banking",
          "Debit card",
          "Debit card",
          "Net banking",
          "Cash",
          "Debit card",
          "Debit card",
          "Debit card",
          "Cash",
          "UPI",
          "Cash",
          "Debit card",
          "Net banking",
          "Net banking",
          "Credit card",
          "Cash",
          "Cash",
          "UPI",
          "Debit card",
          "Net banking",
          "Debit card",
          "Debit card",
          "Net banking",
          "Credit card",
          "Cash",
          "UPI",
          "Credit card",
          "Cash",
          "Debit card",
          "Credit card",
          "Net banking",
          "Credit card",
          "Net banking",
          "Debit card",
          "Net banking",
          "UPI",
          "UPI",
          "Net banking",
          "Credit card",
          "Credit card",
          "Credit card",
          "Cash",
          "Debit card",
          "UPI",
          "Credit card",
          "Cash",
          "Credit card",
          "Cash",
          "UPI",
          "Credit card",
          "Cash",
          "Cash",
          "Net banking",
          "Debit card",
          "Debit card",
          "Cash",
          "Debit card",
          "Net banking",
          "Credit card",
          "Cash",
          "Net banking",
          "Credit card",
          "Credit card",
          "UPI",
          "Debit card",
          "Cash",
          "Cash",
          "UPI",
          "Credit card",
          "UPI",
          "Net banking",
          "Cash",
          "Debit card",
          "UPI",
          "UPI",
          "UPI",
          "Credit card",
          "Credit card",
          "Credit card",
          "UPI",
          "Debit card",
          "Debit card",
          "Cash",
          "Cash",
          "Debit card",
          "Debit card",
          "Credit card",
          "Cash",
          "Cash",
          "Cash",
          "Cash",
          "Net banking",
          "Debit card",
          "Cash",
          "Net banking",
          "Debit card",
          "Debit card",
          "Cash",
          "Debit card",
          "Net banking",
          "Debit card",
          "Net banking",
          "Debit card",
          "Net banking",
          "Credit card",
          "Cash",
          "UPI",
          "UPI",
          "UPI",
          "Debit card",
          "Net banking",
          "Debit card",
          "Credit card",
          "Credit card",
          "Credit card",
          "Credit card",
          "Debit card",
          "Net banking",
          "Debit card",
          "Cash",
          "Net banking",
          "Debit card",
          "Net banking",
          "Net banking",
          "Cash",
          "Net banking",
          "Cash",
          "Cash",
          "UPI",
          "Cash",
          "Credit card",
          "Net banking",
          "Debit card",
          "Net banking",
          "Credit card",
          "Debit card",
          "Cash",
          "UPI",
          "Credit card",
          "Debit card",
          "Debit card",
          "Net banking",
          "Net banking",
          "Net banking",
          "UPI",
          "Cash",
          "Debit card",
          "Debit card",
          "Debit card",
          "UPI",
          "Cash",
          "Cash",
          "Debit card",
          "Cash",
          "Net banking",
          "Debit card",
          "Debit card",
          "Net banking",
          "Credit card",
          "Credit card",
          "Cash",
          "Net banking",
          "Net banking",
          "Credit card",
          "Cash",
          "Credit card",
          "Debit card",
          "Credit card",
          "Debit card",
          "Cash",
          "Net banking",
          "UPI",
          "Net banking",
          "Credit card",
          "Debit card",
          "UPI",
          "Credit card",
          "UPI",
          "Net banking",
          "Net banking",
          "UPI",
          "Debit card",
          "Cash",
          "Debit card",
          "UPI",
          "UPI",
          "Net banking",
          "Credit card",
          "Credit card",
          "UPI",
          "Credit card",
          "Cash",
          "Credit card",
          "Net banking",
          "Debit card",
          "Debit card",
          "Net banking",
          "Debit card",
          "Credit card",
          "Cash",
          "UPI",
          "Cash",
          "Cash",
          "UPI",
          "Credit card",
          "Cash",
          "Cash",
          "Debit card",
          "UPI",
          "Cash",
          "Cash",
          "UPI",
          "Cash",
          "Credit card",
          "Cash",
          "Net banking",
          "Debit card",
          "UPI",
          "Debit card",
          "Cash",
          "Net banking",
          "Debit card",
          "Debit card",
          "Cash",
          "Debit card",
          "Net banking",
          "Credit card",
          "Net banking",
          "Net banking",
          "Debit card",
          "Cash",
          "UPI",
          "Credit card",
          "UPI",
          "Debit card",
          "Credit card",
          "Credit card",
          "Cash",
          "Net banking",
          "UPI",
          "Cash",
          "UPI",
          "Cash",
          "Credit card",
          "UPI",
          "Debit card",
          "Cash",
          "Debit card",
          "Debit card",
          "UPI",
          "Cash",
          "Net banking",
          "Debit card",
          "Cash",
          "Debit card",
          "Credit card",
          "Cash",
          "Debit card",
          "Credit card",
          "Credit card",
          "Credit card",
          "Credit card",
          "Net banking",
          "Credit card",
          "Cash",
          "Credit card",
          "UPI",
          "UPI",
          "Net banking",
          "Cash",
          "Debit card",
          "Debit card",
          "Debit card",
          "Debit card",
          "Cash",
          "UPI",
          "Cash",
          "Credit card",
          "UPI",
          "Cash",
          "UPI",
          "Cash",
          "UPI",
          "Credit card",
          "Credit card",
          "UPI",
          "Net banking",
          "Cash",
          "Cash",
          "UPI",
          "Net banking",
          "Net banking",
          "Credit card",
          "Cash",
          "Cash",
          "UPI",
          "Net banking",
          "UPI",
          "Net banking",
          "UPI",
          "Net banking",
          "Net banking",
          "Cash",
          "Credit card",
          "Credit card",
          "UPI",
          "Net banking",
          "Credit card",
          "Net banking",
          "Net banking",
          "Debit card",
          "UPI",
          "UPI",
          "Cash",
          "UPI",
          "Credit card",
          "Cash",
          "UPI",
          "Net banking",
          "UPI",
          "Cash",
          "Credit card",
          "Credit card",
          "UPI",
          "Net banking",
          "Debit card",
          "Cash",
          "Credit card",
          "Cash",
          "Cash",
          "Net banking",
          "Credit card",
          "Cash",
          "Debit card",
          "Net banking",
          "Net banking",
          "Credit card",
          "UPI",
          "Credit card",
          "Debit card",
          "UPI",
          "Credit card",
          "Cash",
          "Debit card",
          "Cash",
          "Credit card",
          "Credit card",
          "Debit card",
          "Cash",
          "Cash",
          "Credit card",
          "Debit card",
          "UPI",
          "Debit card",
          "Credit card",
          "Net banking",
          "Cash",
          "Debit card",
          "Net banking",
          "Debit card",
          "Net banking",
          "Cash",
          "Cash",
          "Cash",
          "Credit card",
          "Net banking",
          "Credit card",
          "Net banking",
          "UPI",
          "Debit card",
          "Cash",
          "Debit card",
          "UPI",
          "Cash",
          "Net banking",
          "UPI",
          "UPI",
          "Cash",
          "UPI",
          "Credit card",
          "UPI",
          "Net banking",
          "Net banking",
          "Cash",
          "Debit card",
          "UPI",
          "Credit card",
          "Net banking",
          "Credit card",
          "Credit card",
          "Credit card",
          "Net banking",
          "Cash",
          "UPI",
          "Debit card",
          "Debit card",
          "Debit card",
          "UPI",
          "Cash",
          "UPI",
          "UPI",
          "Credit card",
          "Cash",
          "Cash",
          "Debit card",
          "Net banking",
          "Net banking",
          "Cash",
          "Net banking",
          "Cash",
          "Credit card",
          "UPI",
          "UPI",
          "UPI",
          "Net banking",
          "Cash",
          "UPI",
          "Cash",
          "Cash",
          "UPI",
          "Net banking",
          "Credit card",
          "UPI",
          "UPI",
          "Debit card",
          "Cash",
          "Net banking",
          "Debit card",
          "Credit card",
          "Cash",
          "UPI",
          "Cash",
          "Credit card",
          "Cash",
          "Debit card",
          "Debit card",
          "UPI",
          "UPI",
          "Cash",
          "Debit card",
          "UPI",
          "Net banking",
          "Debit card",
          "Credit card",
          "Debit card",
          "Cash",
          "Cash",
          "Net banking",
          "Cash",
          "Credit card",
          "UPI",
          "Debit card",
          "Debit card",
          "Credit card",
          "UPI",
          "Net banking",
          "Credit card",
          "Debit card",
          "Cash",
          "Net banking",
          "Cash",
          "UPI",
          "Debit card",
          "Credit card",
          "Net banking",
          "Net banking",
          "Net banking",
          "Net banking",
          "Credit card",
          "Net banking",
          "Net banking",
          "UPI",
          "Credit card",
          "Credit card",
          "Cash",
          "Cash",
          "Cash",
          "Credit card",
          "Net banking",
          "Credit card",
          "Credit card",
          "Debit card",
          "UPI",
          "Cash",
          "Debit card",
          "Net banking",
          "UPI",
          "Debit card",
          "UPI",
          "Cash",
          "Credit card",
          "Cash",
          "Debit card",
          "Cash",
          "Debit card",
          "UPI",
          "Debit card",
          "Debit card",
          "Cash",
          "Net banking",
          "Debit card",
          "Net banking",
          "Net banking",
          "Net banking",
          "UPI",
          "Cash",
          "Cash",
          "Net banking",
          "Debit card",
          "Debit card",
          "Net banking",
          "Net banking",
          "Net banking",
          "UPI",
          "Cash",
          "Net banking",
          "UPI",
          "UPI",
          "Credit card",
          "UPI",
          "UPI",
          "Net banking",
          "Cash",
          "Credit card",
          "Credit card",
          "Debit card",
          "Debit card",
          "Net banking",
          "Credit card",
          "Credit card",
          "Credit card",
          "UPI",
          "Debit card",
          "UPI",
          "Credit card",
          "Credit card",
          "Debit card",
          "Cash",
          "Credit card",
          "UPI",
          "Cash",
          "Debit card",
          "UPI",
          "Debit card",
          "Cash",
          "Net banking",
          "Net banking",
          "Credit card",
          "Cash",
          "Cash",
          "Net banking",
          "Debit card",
          "Debit card",
          "Net banking",
          "UPI",
          "Net banking",
          "Net banking",
          "Credit card",
          "Cash",
          "Credit card",
          "Net banking",
          "Cash",
          "Credit card",
          "Cash",
          "Credit card",
          "Cash",
          "Debit card",
          "UPI",
          "Credit card",
          "Net banking",
          "UPI",
          "UPI",
          "Credit card",
          "Cash",
          "Cash",
          "Debit card",
          "Net banking",
          "Cash",
          "UPI",
          "Net banking",
          "Credit card",
          "Debit card",
          "Debit card",
          "Cash",
          "Debit card",
          "Cash",
          "Net banking",
          "Cash",
          "Credit card",
          "UPI",
          "Cash",
          "Net banking",
          "Cash",
          "Cash",
          "Net banking",
          "Debit card",
          "Cash",
          "UPI",
          "UPI",
          "Cash",
          "Debit card",
          "UPI",
          "Net banking",
          "Cash",
          "Credit card",
          "Credit card",
          "Net banking",
          "Cash",
          "Credit card",
          "Cash",
          "Cash",
          "Net banking",
          "Cash",
          "Net banking",
          "UPI",
          "UPI",
          "Credit card",
          "Net banking",
          "Debit card",
          "Debit card",
          "UPI",
          "UPI",
          "Debit card",
          "UPI",
          "Debit card",
          "UPI",
          "Net banking",
          "Credit card",
          "Net banking",
          "Net banking",
          "Debit card",
          "Debit card",
          "Debit card",
          "Credit card",
          "UPI",
          "Net banking",
          "Credit card",
          "Credit card",
          "Credit card",
          "Debit card",
          "Debit card",
          "UPI",
          "Cash",
          "Credit card",
          "Debit card",
          "UPI",
          "Debit card",
          "Debit card",
          "Cash",
          "Credit card",
          "Cash",
          "Credit card",
          "UPI",
          "Credit card",
          "Cash",
          "UPI",
          "Debit card",
          "Credit card",
          "Net banking",
          "Debit card",
          "UPI",
          "Credit card",
          "Cash",
          "Net banking",
          "UPI",
          "Cash",
          "Cash",
          "Debit card",
          "Net banking",
          "UPI",
          "Cash",
          "Credit card",
          "Cash",
          "Debit card",
          "Cash",
          "Debit card",
          "Net banking",
          "Net banking",
          "Debit card",
          "Credit card",
          "UPI",
          "Credit card",
          "UPI",
          "Debit card",
          "UPI",
          "UPI",
          "Credit card",
          "Cash",
          "Credit card",
          "Net banking",
          "Cash",
          "Net banking",
          "Net banking",
          "Net banking",
          "Credit card",
          "Debit card",
          "UPI",
          "Debit card",
          "Debit card",
          "Cash",
          "Debit card",
          "Credit card",
          "Cash",
          "UPI",
          "Debit card",
          "Debit card",
          "Net banking",
          "UPI",
          "Net banking",
          "Debit card",
          "UPI",
          "Debit card",
          "Cash",
          "UPI",
          "UPI",
          "Credit card",
          "Cash",
          "Debit card",
          "Cash",
          "UPI",
          "Credit card",
          "Credit card",
          "Cash",
          "UPI",
          "UPI",
          "Credit card",
          "UPI",
          "Credit card",
          "UPI",
          "Net banking",
          "Debit card",
          "Cash",
          "Debit card",
          "Debit card",
          "Cash",
          "Net banking",
          "UPI",
          "Net banking",
          "Debit card",
          "Credit card",
          "Credit card",
          "Debit card",
          "Cash",
          "Cash",
          "Net banking",
          "Debit card",
          "UPI",
          "Credit card",
          "UPI",
          "Debit card",
          "Credit card",
          "UPI",
          "Net banking",
          "UPI",
          "Net banking",
          "Net banking",
          "UPI",
          "Debit card",
          "Net banking",
          "UPI",
          "Credit card",
          "Credit card",
          "Net banking",
          "Debit card",
          "UPI",
          "Cash",
          "Cash",
          "Net banking",
          "Debit card",
          "Debit card",
          "Debit card",
          "UPI",
          "Debit card",
          "Credit card",
          "UPI",
          "UPI",
          "Cash",
          "UPI",
          "Credit card",
          "UPI",
          "Credit card",
          "Debit card",
          "Debit card",
          "Net banking",
          "Debit card",
          "UPI",
          "Net banking",
          "UPI",
          "Debit card",
          "UPI",
          "Debit card",
          "Debit card",
          "Credit card",
          "Net banking",
          "UPI",
          "UPI",
          "Net banking",
          "Credit card",
          "Cash",
          "UPI",
          "Cash",
          "Cash",
          "Debit card",
          "Credit card",
          "Cash",
          "Net banking",
          "UPI",
          "Debit card",
          "Debit card",
          "Debit card",
          "Net banking",
          "UPI",
          "Debit card",
          "UPI",
          "UPI",
          "Cash",
          "UPI",
          "Debit card",
          "UPI",
          "Debit card",
          "Credit card",
          "UPI",
          "Debit card",
          "Debit card",
          "UPI",
          "Credit card",
          "Cash",
          "Credit card",
          "UPI",
          "Net banking",
          "Net banking",
          "Net banking",
          "Cash",
          "Credit card",
          "Credit card",
          "UPI",
          "UPI",
          "Debit card",
          "Net banking",
          "Credit card",
          "UPI",
          "Debit card",
          "Debit card",
          "Cash",
          "Cash",
          "Debit card",
          "Net banking",
          "Cash",
          "UPI",
          "Cash",
          "UPI",
          "UPI",
          "Net banking",
          "Cash",
          "UPI",
          "Cash",
          "UPI",
          "Net banking",
          "UPI",
          "UPI",
          "Cash",
          "Cash",
          "Net banking",
          "Credit card",
          "UPI",
          "Net banking",
          "Cash",
          "Net banking",
          "Cash",
          "Net banking",
          "Cash",
          "UPI",
          "Credit card",
          "UPI",
          "UPI",
          "Debit card",
          "Net banking",
          "Net banking",
          "Cash",
          "UPI",
          "Credit card",
          "UPI",
          "Net banking",
          "Cash",
          "Credit card",
          "Cash",
          "Cash",
          "UPI",
          "Credit card",
          "Net banking",
          "Debit card",
          "Net banking",
          "Debit card",
          "Net banking",
          "Debit card",
          "Debit card",
          "Cash",
          "Cash",
          "UPI",
          "Net banking",
          "Credit card",
          "Cash",
          "Net banking",
          "UPI",
          "Debit card",
          "Debit card",
          "Cash",
          "UPI",
          "Net banking",
          "Debit card",
          "Cash",
          "Cash",
          "Cash",
          "UPI",
          "UPI",
          "Cash",
          "Net banking",
          "Debit card",
          "Credit card",
          "Debit card",
          "Cash",
          "Credit card",
          "Net banking",
          "Net banking",
          "Cash",
          "Net banking",
          "Cash",
          "Net banking",
          "Cash",
          "Debit card",
          "Debit card",
          "Debit card",
          "Net banking",
          "Cash",
          "Cash",
          "Credit card",
          "UPI",
          "UPI",
          "Debit card",
          "Debit card",
          "Cash",
          "Cash",
          "UPI",
          "Debit card",
          "Credit card",
          "Cash",
          "Debit card",
          "Debit card",
          "Cash",
          "Cash",
          "Debit card",
          "Credit card",
          "Cash",
          "UPI",
          "Cash",
          "Debit card",
          "Debit card",
          "Cash",
          "UPI",
          "UPI",
          "Credit card",
          "Net banking",
          "UPI",
          "Net banking",
          "Credit card",
          "Credit card",
          "Credit card",
          "Net banking",
          "Net banking",
          "Cash",
          "Cash",
          "UPI",
          "UPI",
          "Net banking",
          "Debit card",
          "Cash",
          "Credit card",
          "UPI",
          "Net banking",
          "Cash",
          "UPI",
          "Debit card",
          "Debit card",
          "Cash",
          "Debit card",
          "Cash",
          "Debit card",
          "Cash",
          "UPI",
          "Credit card",
          "Debit card",
          "Cash",
          "Cash",
          "Net banking",
          "Cash",
          "Cash",
          "Cash",
          "Credit card",
          "Credit card",
          "Cash",
          "Cash",
          "Net banking",
          "Net banking",
          "Cash",
          "Cash",
          "Net banking",
          "Cash",
          "Debit card",
          "Credit card",
          "UPI",
          "Net banking",
          "UPI",
          "Debit card",
          "Debit card",
          "Debit card",
          "Net banking",
          "Cash",
          "UPI",
          "Credit card",
          "Net banking",
          "Net banking",
          "Net banking",
          "Net banking",
          "Net banking",
          "Cash",
          "Net banking",
          "Debit card",
          "UPI",
          "Credit card",
          "Cash",
          "Credit card",
          "UPI",
          "Cash",
          "Debit card",
          "Net banking",
          "Credit card",
          "Credit card",
          "Credit card",
          "Net banking",
          "Credit card",
          "Debit card",
          "Net banking",
          "Net banking",
          "Debit card",
          "UPI",
          "Cash",
          "Debit card",
          "Net banking",
          "Net banking",
          "Cash",
          "Debit card",
          "Net banking",
          "Debit card",
          "UPI",
          "UPI",
          "UPI",
          "UPI",
          "Net banking",
          "Net banking",
          "UPI",
          "Credit card",
          "Cash",
          "Cash",
          "Debit card",
          "Net banking",
          "UPI",
          "Debit card",
          "UPI",
          "UPI",
          "UPI",
          "Credit card",
          "Cash",
          "Credit card",
          "Debit card",
          "Net banking",
          "Credit card",
          "Debit card",
          "Debit card",
          "Cash",
          "Net banking",
          "Cash",
          "UPI",
          "Credit card",
          "Credit card",
          "Cash",
          "Cash",
          "Debit card",
          "Credit card",
          "Cash",
          "Credit card",
          "Cash",
          "Net banking",
          "UPI",
          "Credit card",
          "Debit card",
          "Net banking",
          "Credit card",
          "UPI",
          "Debit card",
          "Credit card",
          "Debit card",
          "UPI",
          "Net banking",
          "Credit card",
          "Net banking",
          "Credit card",
          "UPI",
          "Net banking",
          "Debit card",
          "Credit card",
          "Cash"
         ],
         "legendgroup": "",
         "name": "",
         "showlegend": true,
         "type": "pie",
         "values": [
          664.79,
          760.5,
          738.78,
          899.09,
          530.14,
          978.72,
          581.01,
          396.25,
          689.98,
          624.07,
          650.18,
          863.84,
          405.94,
          640.86,
          167.9,
          170.38,
          85.18,
          408.01,
          45.35,
          250.4,
          975.14,
          59.67,
          591.34,
          614.57,
          582.22,
          561.93,
          913.51,
          131.27,
          111.27,
          746.45,
          299.11,
          529.96,
          608.42,
          155.43,
          255.1,
          870.71,
          805.43,
          678.7,
          353.95,
          878.45,
          815.53,
          147.89,
          444.53,
          214.63,
          635.32,
          177.21,
          703.05,
          457.31,
          358.2,
          651.2,
          71.96,
          78.03,
          938.14,
          909.78,
          362.87,
          788.15,
          101.88,
          628.11,
          719.05,
          838.11,
          124.28,
          27.96,
          400.97,
          925.6,
          662.83,
          378.01,
          692.57,
          656.55,
          559.16,
          51.3,
          739.88,
          568.58,
          401.93,
          86.73,
          99.42,
          395.54,
          349.2,
          246.62,
          570.81,
          89.86,
          983.07,
          324.14,
          870.88,
          119.31,
          814.32,
          550.02,
          728.47,
          76.62,
          763.47,
          60.06,
          154.86,
          605.64,
          365.09,
          506.27,
          450.65,
          684.12,
          785.66,
          19.95,
          685.27,
          716.74,
          901.98,
          167.33,
          277.01,
          21.41,
          687.65,
          622.38,
          961.78,
          249.41,
          366.16,
          732.08,
          812.72,
          374.16,
          547.22,
          243.99,
          705.25,
          68.27,
          745.89,
          291.58,
          908.74,
          16.65,
          491.21,
          550.53,
          297.47,
          560.81,
          848.29,
          116.8,
          732.57,
          535.66,
          563.38,
          946.15,
          284.45,
          606.75,
          497.46,
          200.37,
          643.6,
          927.14,
          716.6,
          446.93,
          709.36,
          441.39,
          679.42,
          436.68,
          611.61,
          331.48,
          450.89,
          812.71,
          85.5,
          537.26,
          253.91,
          483.07,
          943.12,
          280.27,
          900.49,
          336.12,
          821.75,
          853.15,
          112.99,
          31.55,
          394.85,
          802.03,
          236.77,
          262.35,
          760.72,
          26.38,
          463.9,
          373.72,
          574.8,
          653.25,
          624.95,
          285.54,
          745.28,
          802.23,
          561.11,
          254.66,
          944.18,
          664.46,
          606.51,
          619.94,
          725.72,
          713.42,
          567.2,
          184.07,
          56.51,
          376.2,
          527.13,
          352.27,
          750.2,
          982.18,
          716.27,
          877.44,
          142.49,
          864.1,
          549.48,
          882.24,
          506.68,
          753.17,
          41.34,
          196.93,
          290.88,
          753.52,
          994.5,
          420.43,
          733.24,
          383.01,
          868.54,
          476.53,
          271.76,
          590.58,
          60.17,
          196.86,
          766.54,
          911.57,
          311.5,
          885.63,
          107.23,
          580.18,
          544.05,
          867.8,
          545.27,
          980.73,
          828.28,
          39.61,
          992.25,
          297.97,
          285.56,
          848.2,
          619.45,
          506.25,
          22.84,
          433.08,
          334.49,
          635.42,
          904.08,
          575.61,
          61.81,
          21.2,
          56.85,
          211.3,
          813.7,
          645.39,
          307.49,
          794.79,
          880.05,
          721.54,
          166.09,
          730.81,
          924.4,
          789.75,
          570.47,
          269.26,
          417.53,
          653.09,
          930.69,
          240.84,
          62.18,
          890.03,
          324.1,
          790.73,
          341.1,
          98.73,
          349.61,
          737.61,
          303.23,
          836.91,
          990.29,
          114.39,
          169.42,
          606.21,
          526.02,
          725.51,
          776.03,
          827.64,
          825.53,
          619.23,
          685.33,
          831.32,
          362.75,
          470.77,
          728.1,
          932.1,
          507.84,
          946.72,
          916.17,
          819.13,
          991.17,
          803.94,
          447.5,
          289.29,
          80.73,
          496.21,
          744.08,
          765.16,
          339.89,
          458.53,
          117.26,
          684.46,
          718.55,
          379.19,
          757.96,
          124.11,
          290.62,
          665.89,
          774.89,
          591.49,
          314.54,
          854.55,
          539.27,
          290.7,
          339.66,
          371.55,
          728.47,
          118.98,
          259.49,
          653.45,
          75.17,
          508.72,
          531.38,
          502.9,
          788.26,
          491.36,
          592.41,
          764.84,
          91.46,
          987.28,
          631.43,
          338.17,
          913.12,
          303.98,
          912.29,
          764.66,
          978.04,
          622.51,
          276.01,
          781.1,
          102.81,
          367.15,
          930.39,
          443.07,
          469.8,
          819.28,
          637.95,
          284.27,
          822.43,
          986.25,
          52.87,
          602.38,
          827.98,
          234.88,
          946.02,
          944.11,
          91.15,
          229.43,
          952.94,
          212.51,
          896.89,
          785.9,
          516.15,
          177.73,
          117.33,
          891.98,
          841.87,
          923.37,
          63.23,
          703.2,
          804.49,
          934.65,
          108.43,
          47.7,
          836.22,
          826.02,
          678.67,
          126.06,
          381.46,
          788.58,
          424.53,
          496.21,
          212.51,
          318.8,
          991.3,
          921.55,
          991.9,
          967.44,
          587.45,
          460.28,
          326.75,
          555.07,
          593.23,
          460.49,
          245.98,
          973.83,
          766.48,
          354.3,
          759.29,
          72.36,
          274.23,
          668.36,
          716.64,
          729.9,
          780,
          92.44,
          413.52,
          890.72,
          172.35,
          982.7,
          13.48,
          488.62,
          709.36,
          573.99,
          698.72,
          918.39,
          848.42,
          747.59,
          988.95,
          874.2,
          354.96,
          780.88,
          90.98,
          132.32,
          856.28,
          411.64,
          456.23,
          849.15,
          352.01,
          619.87,
          398.21,
          924.23,
          829.4,
          33.96,
          816.88,
          639.71,
          810.22,
          746.85,
          572.21,
          531.41,
          42.09,
          117.17,
          494.03,
          720.73,
          39.17,
          231.24,
          16.38,
          181.36,
          656.63,
          810.2,
          705.01,
          587.96,
          918.22,
          703.46,
          193.12,
          862.22,
          870.83,
          74.28,
          891.56,
          209.44,
          328.39,
          63.11,
          542.99,
          281.38,
          662.73,
          141.7,
          388.13,
          658.81,
          564.38,
          498.76,
          686.57,
          55.05,
          819.41,
          96.35,
          382.84,
          792.55,
          723.88,
          152,
          611.5,
          417.72,
          419.06,
          613.09,
          737.93,
          752.51,
          591.3,
          654.27,
          775.82,
          15.32,
          935.44,
          369.06,
          113.58,
          350.33,
          789.16,
          872.98,
          891.2,
          113.99,
          788.78,
          130.35,
          587.9,
          144.63,
          899.56,
          596.75,
          35.99,
          401.17,
          495.97,
          152.87,
          266.34,
          269.21,
          600.72,
          220.84,
          184.74,
          958.74,
          439.45,
          986.37,
          281.22,
          201.57,
          949.94,
          328.2,
          416.81,
          528.2,
          46.37,
          471.5,
          227.59,
          961.84,
          134.23,
          799.12,
          231.69,
          159.39,
          105.03,
          71.72,
          364.11,
          153.2,
          404.14,
          211.69,
          728.49,
          981.73,
          715.54,
          845.67,
          262.63,
          113.09,
          748.82,
          113.12,
          457.42,
          256.67,
          26.98,
          874.25,
          59.03,
          26.11,
          21.55,
          746.37,
          262.76,
          906.81,
          966.97,
          317.67,
          305.75,
          710.68,
          500.57,
          443.19,
          603.53,
          772.82,
          625.14,
          324.04,
          412.8,
          849.22,
          336.8,
          765.27,
          72.81,
          260.08,
          780.62,
          393.02,
          547.18,
          600.01,
          688.45,
          665.67,
          164.16,
          152.96,
          418.69,
          905.25,
          258.22,
          325.21,
          507.14,
          13.41,
          534.65,
          666.41,
          707.46,
          952.77,
          56.18,
          90.8,
          952.83,
          961.72,
          923.32,
          717.95,
          521.86,
          243.22,
          677.59,
          664.57,
          376.04,
          600.79,
          515.52,
          889.79,
          712.3,
          131.68,
          393.61,
          239.17,
          266.27,
          864.83,
          751.29,
          410.29,
          740.51,
          220.6,
          110.43,
          912.74,
          619.13,
          965.11,
          92.34,
          762.69,
          147.97,
          406.02,
          662.8,
          141.08,
          621.02,
          651.41,
          343.52,
          497.95,
          456.69,
          384.09,
          815.35,
          798.78,
          207.3,
          682.62,
          918.91,
          482.13,
          737.62,
          726.87,
          374.62,
          693.88,
          39.4,
          703.18,
          610.69,
          552.76,
          400.73,
          468.22,
          55.01,
          462.96,
          594.56,
          709.99,
          883.27,
          388.92,
          972.62,
          566.6,
          895.57,
          110.49,
          828.51,
          305.07,
          592.91,
          539.24,
          39.25,
          344.36,
          992.23,
          402.04,
          924.27,
          839.63,
          565.33,
          415.19,
          235.29,
          729.01,
          948.61,
          14.96,
          463.36,
          882.7,
          78,
          497.25,
          211.83,
          226.86,
          690.63,
          903.93,
          827.28,
          419.5,
          68.38,
          699.05,
          640.02,
          442.68,
          254.7,
          748.12,
          423.29,
          613.16,
          79.08,
          402.12,
          655.64,
          788.79,
          508.88,
          633.78,
          24.09,
          980.91,
          368.32,
          38.89,
          861.93,
          334.16,
          168.42,
          48.79,
          53.16,
          888.19,
          861.96,
          468.31,
          503.54,
          367.41,
          145.86,
          191.98,
          487,
          462.88,
          960.43,
          936.37,
          941.58,
          465.73,
          428.37,
          735.64,
          20.4,
          41.55,
          97.93,
          411.75,
          351.88,
          221.27,
          735.86,
          688.94,
          458.19,
          134.18,
          13.02,
          28.55,
          199.25,
          860.96,
          295.07,
          537.08,
          503.72,
          308.32,
          661.13,
          542.09,
          376.55,
          465.81,
          440.6,
          819.8,
          225.4,
          91.74,
          161.05,
          654.41,
          90.46,
          629.9,
          237.69,
          773.71,
          298.22,
          442.02,
          424.54,
          393.74,
          907.5,
          773.27,
          654.56,
          161.49,
          95.48,
          432.67,
          400.25,
          671.11,
          777.3,
          478.75,
          99.26,
          285.53,
          733.67,
          149,
          525.13,
          255.26,
          604.99,
          164.92,
          315.03,
          500.02,
          349.71,
          869.71,
          404.72,
          473.82,
          144.18,
          125.76,
          934.02,
          347.81,
          241.82,
          970.5,
          829.01,
          495.18,
          419.78,
          152.91,
          45.43,
          710.84,
          459.83,
          329.89,
          671.55,
          36.63,
          201.92,
          603.18,
          721.56,
          536.94,
          765.64,
          113.74,
          272.77,
          575.27,
          540.05,
          319.03,
          88.82,
          812.76,
          306.94,
          712.91,
          766.21,
          49.65,
          180.81,
          666.69,
          253.78,
          609.34,
          624.26,
          852.43,
          228.61,
          222.48,
          332.55,
          230.47,
          177.28,
          93.88,
          485.52,
          698.23,
          650.83,
          796.42,
          193.69,
          523.22,
          838.95,
          656.03,
          400.74,
          208.83,
          345.75,
          175.92,
          51.34,
          293.97,
          710.44,
          122.7,
          97.88,
          790.81,
          858.8,
          165.87,
          477.32,
          544.91,
          157.97,
          468.01,
          638.8,
          805.71,
          600.45,
          87.19,
          568.47,
          253.77,
          384.05,
          206.02,
          214.73,
          721.55,
          396.13,
          307.47,
          571.22,
          134.33,
          370.71,
          524.92,
          58.83,
          63.63,
          875.8,
          815.18,
          700.07,
          703.07,
          709.48,
          560.51,
          381.38,
          858.76,
          216.46,
          261.91,
          819.27,
          652.56,
          386.2,
          739.56,
          639.84,
          253.58,
          243.9,
          622.98,
          83.91,
          916.18,
          317.51,
          505.85,
          648.66,
          783.53,
          145.97,
          509.49,
          300.61,
          742.32,
          953.69,
          554.96,
          283.04,
          686.32,
          972.61,
          663.07,
          116.07,
          815.22,
          402.83,
          279.79,
          682.26,
          676.48,
          891.66,
          102.64,
          577.29,
          427.19,
          669.04,
          592.6,
          664.77,
          857.18,
          618.48,
          115.25,
          835.99,
          317.9,
          917.07,
          27.58,
          610.64,
          768.05,
          962.1,
          39.33,
          994.1,
          17.53,
          504.59,
          797.75,
          479.82,
          764.59,
          789.67,
          297.64,
          963.96,
          834.55,
          934.59,
          674.9,
          979.24,
          599.69,
          826.7,
          177,
          162.39,
          579.58,
          762.82,
          476.69,
          899.48,
          593.36,
          725.47,
          292.02,
          546.7,
          476.66,
          138.1,
          188.08,
          786.87,
          587.29,
          296.21,
          437.32,
          84.22,
          786.54,
          227.17,
          366.43,
          541.28,
          119.67,
          395.8,
          336.41,
          400.76,
          500.41,
          257.69,
          982.9,
          583.93,
          892.67,
          225.71,
          859.57,
          678.91,
          17.27,
          48.39,
          431.41,
          14.63,
          357.94,
          867.17,
          737.44,
          882.78,
          80.78,
          119.71,
          126.11,
          621.17,
          227.62,
          244.81,
          275.89,
          738.57,
          83.95,
          717.4,
          370.31,
          666.8,
          358.79,
          950.05,
          208.92,
          940.88,
          127.13,
          428.41,
          731.7,
          155.11,
          370.33,
          794.52,
          437.76,
          716,
          496.73,
          906.69,
          613.35,
          409.41,
          533.23,
          344.06,
          100.03,
          820.04,
          12.78,
          706.33,
          382.03,
          426.07,
          248.35,
          979.18,
          70.07,
          443.62,
          725.64,
          587.69,
          902.05,
          475.7,
          800.07,
          889.96,
          55.62,
          940.59,
          334.64,
          579.76,
          438.09,
          523.33,
          554.47,
          698.68,
          256.11,
          762.64,
          953.02,
          779.42,
          168.96,
          456.27,
          120.22,
          408.54,
          112.99,
          915.44,
          799.85,
          899.85,
          850.49,
          783.65,
          409.13,
          577.65,
          379.11,
          498.32,
          374.61,
          393.58,
          644.02,
          707.44,
          566.05,
          533.62,
          310.5,
          842.69,
          529.6,
          929.95,
          709.37,
          52.26,
          779.98,
          179.53,
          750.76,
          880.08,
          49.72,
          714.69,
          297.66,
          24.17,
          340.75,
          149.17,
          721.62,
          939.01,
          138.65,
          919.05,
          638.74,
          602.98,
          35.26,
          320.28,
          286.02,
          235.23,
          115.22,
          962.17,
          646.2,
          443.42,
          986.62,
          171.84,
          135.51,
          554.03,
          797.74,
          42.13,
          387,
          293.8,
          54.29,
          110.12,
          70.48,
          887.83,
          258.81,
          877.37,
          533.05,
          848.58,
          477.4,
          888.56,
          653.79,
          695.26,
          76.47,
          312.38,
          599.89,
          736.93,
          962.11,
          596.05,
          351.78,
          622.23,
          245.27,
          916.8,
          584.27,
          439.18,
          547.38,
          642.97,
          350.18,
          951.27,
          928.77,
          785.23,
          87.1,
          735.44,
          936.39,
          587.17,
          247.38,
          350.62,
          687.18,
          396.11,
          537.15,
          627.88,
          876.9,
          972.57,
          636.99,
          58.57,
          828.33,
          669,
          595.71,
          442.78,
          604.26,
          634.15,
          69.24,
          494.4,
          206.39,
          448.7,
          695.98,
          768.98,
          232.36,
          304.22,
          693.5,
          164.49,
          560.74,
          626.58,
          799.12,
          699.2,
          236.05,
          267.87,
          249.49,
          134.65,
          762.65,
          649.48,
          100.95,
          190.23,
          816.25,
          754.72,
          757.6,
          770.76,
          926.36,
          936.29,
          784.7,
          555.68,
          284.62,
          271.42,
          232.86,
          813.43,
          403.69,
          453.77,
          80.51,
          623.57,
          836.94,
          411.84,
          299.93,
          150.98,
          339.47,
          95.09,
          588.47,
          495.72,
          730.06,
          530.68,
          451.73,
          432.52,
          733.78,
          783.24,
          63.2,
          509.34,
          177.59,
          475.11,
          616.17,
          330.32,
          839.28,
          926.82,
          979.95,
          328.85,
          591.37,
          876.08,
          857.94,
          296.55,
          325.98,
          830.48,
          911.66,
          15.84,
          918.41,
          303,
          37.07,
          840.54,
          229.37,
          101.73,
          35.74,
          912.13,
          799.38,
          880.11,
          741.61,
          34.82,
          37.31,
          139.11,
          590.65,
          74.64,
          980.47,
          414.72,
          552.12,
          136.42,
          459.08,
          888.89,
          992.95,
          778.52,
          641.81,
          784.53,
          442.69,
          389.92,
          86.55,
          32.08,
          57.39,
          815.81,
          334.44,
          780,
          494.44,
          103.62,
          278.79,
          763.98,
          765.56,
          294.17,
          441.13,
          950.41,
          906.75,
          416.21,
          417.76,
          367.4,
          922.93,
          236.95,
          581.53,
          624.86,
          339.26,
          66.26,
          417.14,
          107.33,
          918.86,
          827.7,
          244.04,
          275.18,
          122.1,
          917.73,
          703.41,
          497.88,
          978.07,
          597.96,
          661.22,
          486.53,
          101.41,
          243.46,
          770.4,
          792.83,
          943.68,
          737.43,
          380.49,
          998.59,
          586.99,
          42.42,
          676.24,
          108.79,
          375.28,
          668.16,
          746.26,
          21.78,
          586.2,
          338.2,
          538.48,
          635.41,
          472.74,
          952.59,
          574.68,
          472.31,
          477.35,
          773.97,
          441,
          172.21,
          477.12,
          729.46,
          227.1,
          545.16,
          259.43,
          978.95,
          72.57,
          325.39,
          936.34,
          872.01,
          686.8,
          468.33,
          716.67,
          35.02,
          321.33,
          795.58,
          834.15,
          862.46,
          621.98,
          177.94,
          466.03,
          587.65,
          32.97,
          395.42,
          631.48,
          344.1,
          733.24,
          204.48,
          609.62,
          859.41,
          889.89,
          196.86,
          263,
          621.05,
          733.85,
          791.13,
          494.49,
          747.05,
          324.21,
          919.09,
          237.73,
          905.58,
          864.03,
          987.88,
          437.28,
          513.59,
          660.36,
          456.73,
          817.03,
          175.39,
          557.12,
          491.72,
          616.15,
          771.19,
          942.83,
          547.68,
          263.44,
          686.31,
          604.24,
          625.19,
          32.9,
          10.76,
          225.48,
          507.95,
          811.39,
          886.35,
          327.16,
          263.9,
          817.49,
          432.34,
          55.29,
          327.18,
          501.39,
          10.23,
          601.6,
          426.88,
          244.33,
          61.53,
          902.33,
          602.62,
          54.18,
          592.46,
          233.5,
          862.86,
          981.52,
          672.12,
          881.27,
          976.58,
          163.91,
          970.71,
          497.31,
          557.12,
          158.52,
          928.76,
          781.4,
          704.54,
          632.95,
          618.82,
          628.71,
          565.8,
          852.81,
          344.35,
          230.08,
          304.44,
          300.29,
          512.68,
          529.3,
          820.85,
          625.07,
          395.41,
          669.58,
          610.51,
          980.36,
          539.36,
          720.79,
          391.08,
          210.54,
          985.82,
          199.46,
          101.04,
          18.83,
          910.74,
          765.82,
          874.7,
          410.73,
          761.84,
          279.04,
          113.45,
          331.97,
          712.99,
          162.8,
          579.66,
          860.32,
          266.02,
          398.35,
          237,
          605.1,
          414.53,
          123.29,
          686.09,
          903.29,
          145.99,
          372.31,
          323.07,
          761.16,
          165.71,
          904.63,
          889.06,
          397.55,
          399.5,
          624.37,
          454.42,
          191.01,
          839.8,
          221.79,
          853.72,
          918.26,
          79.3,
          944.62,
          138.55,
          369.5,
          519.77,
          324.95,
          570.3,
          92.58,
          405.39,
          927.32,
          335.58,
          770.02,
          464.07,
          895.71,
          489.84,
          320.16,
          455.27,
          321.67,
          718.49,
          481.65,
          516.23,
          337.89,
          405.65,
          514.65,
          454.38,
          847.08,
          864.53,
          231.53,
          393.02,
          414.83,
          195.25,
          545.23,
          958.93,
          550.43,
          26.59,
          87.82,
          362.49,
          540.47,
          940.82,
          412.03,
          771.18,
          719.8,
          812.32,
          644.2,
          188.71,
          438.66,
          216.57,
          168.35,
          694.78,
          153.56,
          980.55,
          402.48,
          912.93,
          447.36,
          104.33,
          291.82,
          550.27,
          937.69,
          373.95,
          948.29,
          435.32,
          439.2,
          89.78,
          296.24,
          974.25,
          227.86,
          766.94,
          308.94,
          241.86,
          913.64,
          903.25,
          770.42,
          724.29,
          918.47,
          846.23,
          100.1,
          299.93,
          661.76,
          692.34,
          94.39,
          547.63,
          561.81,
          372.8,
          470,
          265.99,
          843.01,
          119.06,
          700.53,
          988.42,
          284.6,
          220.89,
          934.04,
          950.82,
          861.91,
          693.47,
          73.4,
          332.82,
          281.57,
          51.52,
          355.51,
          619.43,
          797.46,
          131.95,
          834.85,
          63.38,
          368.8,
          812.64,
          592.55,
          439.7,
          747.86,
          740.62,
          464.32,
          667.62,
          842,
          668.26,
          777.38,
          604.09,
          571.62,
          362.67,
          171.38,
          896.12,
          10.02,
          621.62,
          197.27,
          797.04,
          240.54,
          597.76,
          307.55,
          204.04,
          755.37,
          186.19,
          517.8,
          541.14,
          725.17,
          252.75,
          527.61,
          403.58,
          526.03,
          230.1,
          637.62,
          151.8,
          447.99,
          248.24,
          754.84,
          278.96,
          318.56,
          359.97,
          43.12,
          143.75,
          910.88,
          710.19,
          915.15,
          422.03,
          286.61,
          105.2,
          878.24,
          168.52,
          55.35,
          249.68,
          730.11,
          477.8,
          127.43,
          626.29,
          944.66,
          956.64,
          83.34,
          981.77,
          486.68,
          781.49,
          358.96,
          654.47,
          369.29,
          884.65,
          806.13,
          692.47,
          359.07,
          576.95,
          789.27,
          519.38,
          749.56,
          27.55,
          374.61,
          684.17,
          831.5,
          599.44,
          942.86,
          958.42,
          718.66,
          352.18,
          651.91,
          561.51,
          250.13,
          872.39,
          188.96,
          406.36,
          467.9,
          988.72,
          471.15,
          225.87,
          328.98,
          738.72,
          880.59,
          821.05,
          929.46,
          391.45,
          989.98,
          862.91,
          778.2,
          495.75,
          99.12,
          539.14,
          978.01,
          161.44,
          832.79,
          644.46,
          816.14,
          132.52,
          711.39,
          668.15,
          613.97,
          945.17,
          226.54,
          381.98,
          851.83,
          965.51,
          677.03,
          313.8,
          874.98,
          478.16,
          456.59,
          936.75,
          307.38,
          698.42,
          511.24,
          226.88,
          783.13,
          728.39,
          652.31,
          850.36,
          585.89,
          353.45,
          386.03,
          151.93,
          643.74,
          879.35,
          635.07,
          270.24,
          172.89,
          742.08,
          191.97,
          863.06,
          488.16,
          892.47,
          269.11,
          706.07,
          245.26,
          857.1,
          506.49,
          610.88,
          709.39,
          707.64,
          267.29,
          506.07,
          639.93,
          63.9,
          481.73,
          226.6,
          294.17,
          985.55,
          387.19,
          853.34,
          485.46,
          809.83,
          727,
          833.78,
          50.66,
          711.85,
          477.34,
          461.59,
          43.81,
          829.5,
          304.64,
          627.93,
          822.38,
          339.46,
          881.47,
          501.61,
          256.45,
          439.37,
          146.02,
          251.78,
          137.55,
          459.55,
          733.12,
          628.91,
          567.3,
          460.64,
          92.77,
          128.96,
          171.07,
          294.23,
          727.04,
          394.26,
          846.17,
          942.5,
          823.14,
          824.43,
          922.57,
          507.23,
          425.82,
          201.93,
          559.69,
          737.4,
          648.02,
          702.08,
          87.08,
          451.71,
          342.97,
          220.1,
          910.74,
          189.41,
          334.13,
          482.83,
          162.6,
          437.59,
          938.63,
          712.49,
          372.01,
          602.67,
          989.16,
          387.18,
          758.96,
          895.58,
          791.8,
          972.97,
          175.4,
          959.38,
          264.92,
          606.11,
          779.68,
          294.83,
          82.6
         ]
        }
       ],
       "layout": {
        "legend": {
         "tracegroupgap": 0
        },
        "template": {
         "data": {
          "bar": [
           {
            "error_x": {
             "color": "#2a3f5f"
            },
            "error_y": {
             "color": "#2a3f5f"
            },
            "marker": {
             "line": {
              "color": "#E5ECF6",
              "width": 0.5
             },
             "pattern": {
              "fillmode": "overlay",
              "size": 10,
              "solidity": 0.2
             }
            },
            "type": "bar"
           }
          ],
          "barpolar": [
           {
            "marker": {
             "line": {
              "color": "#E5ECF6",
              "width": 0.5
             },
             "pattern": {
              "fillmode": "overlay",
              "size": 10,
              "solidity": 0.2
             }
            },
            "type": "barpolar"
           }
          ],
          "carpet": [
           {
            "aaxis": {
             "endlinecolor": "#2a3f5f",
             "gridcolor": "white",
             "linecolor": "white",
             "minorgridcolor": "white",
             "startlinecolor": "#2a3f5f"
            },
            "baxis": {
             "endlinecolor": "#2a3f5f",
             "gridcolor": "white",
             "linecolor": "white",
             "minorgridcolor": "white",
             "startlinecolor": "#2a3f5f"
            },
            "type": "carpet"
           }
          ],
          "choropleth": [
           {
            "colorbar": {
             "outlinewidth": 0,
             "ticks": ""
            },
            "type": "choropleth"
           }
          ],
          "contour": [
           {
            "colorbar": {
             "outlinewidth": 0,
             "ticks": ""
            },
            "colorscale": [
             [
              0,
              "#0d0887"
             ],
             [
              0.1111111111111111,
              "#46039f"
             ],
             [
              0.2222222222222222,
              "#7201a8"
             ],
             [
              0.3333333333333333,
              "#9c179e"
             ],
             [
              0.4444444444444444,
              "#bd3786"
             ],
             [
              0.5555555555555556,
              "#d8576b"
             ],
             [
              0.6666666666666666,
              "#ed7953"
             ],
             [
              0.7777777777777778,
              "#fb9f3a"
             ],
             [
              0.8888888888888888,
              "#fdca26"
             ],
             [
              1,
              "#f0f921"
             ]
            ],
            "type": "contour"
           }
          ],
          "contourcarpet": [
           {
            "colorbar": {
             "outlinewidth": 0,
             "ticks": ""
            },
            "type": "contourcarpet"
           }
          ],
          "heatmap": [
           {
            "colorbar": {
             "outlinewidth": 0,
             "ticks": ""
            },
            "colorscale": [
             [
              0,
              "#0d0887"
             ],
             [
              0.1111111111111111,
              "#46039f"
             ],
             [
              0.2222222222222222,
              "#7201a8"
             ],
             [
              0.3333333333333333,
              "#9c179e"
             ],
             [
              0.4444444444444444,
              "#bd3786"
             ],
             [
              0.5555555555555556,
              "#d8576b"
             ],
             [
              0.6666666666666666,
              "#ed7953"
             ],
             [
              0.7777777777777778,
              "#fb9f3a"
             ],
             [
              0.8888888888888888,
              "#fdca26"
             ],
             [
              1,
              "#f0f921"
             ]
            ],
            "type": "heatmap"
           }
          ],
          "heatmapgl": [
           {
            "colorbar": {
             "outlinewidth": 0,
             "ticks": ""
            },
            "colorscale": [
             [
              0,
              "#0d0887"
             ],
             [
              0.1111111111111111,
              "#46039f"
             ],
             [
              0.2222222222222222,
              "#7201a8"
             ],
             [
              0.3333333333333333,
              "#9c179e"
             ],
             [
              0.4444444444444444,
              "#bd3786"
             ],
             [
              0.5555555555555556,
              "#d8576b"
             ],
             [
              0.6666666666666666,
              "#ed7953"
             ],
             [
              0.7777777777777778,
              "#fb9f3a"
             ],
             [
              0.8888888888888888,
              "#fdca26"
             ],
             [
              1,
              "#f0f921"
             ]
            ],
            "type": "heatmapgl"
           }
          ],
          "histogram": [
           {
            "marker": {
             "pattern": {
              "fillmode": "overlay",
              "size": 10,
              "solidity": 0.2
             }
            },
            "type": "histogram"
           }
          ],
          "histogram2d": [
           {
            "colorbar": {
             "outlinewidth": 0,
             "ticks": ""
            },
            "colorscale": [
             [
              0,
              "#0d0887"
             ],
             [
              0.1111111111111111,
              "#46039f"
             ],
             [
              0.2222222222222222,
              "#7201a8"
             ],
             [
              0.3333333333333333,
              "#9c179e"
             ],
             [
              0.4444444444444444,
              "#bd3786"
             ],
             [
              0.5555555555555556,
              "#d8576b"
             ],
             [
              0.6666666666666666,
              "#ed7953"
             ],
             [
              0.7777777777777778,
              "#fb9f3a"
             ],
             [
              0.8888888888888888,
              "#fdca26"
             ],
             [
              1,
              "#f0f921"
             ]
            ],
            "type": "histogram2d"
           }
          ],
          "histogram2dcontour": [
           {
            "colorbar": {
             "outlinewidth": 0,
             "ticks": ""
            },
            "colorscale": [
             [
              0,
              "#0d0887"
             ],
             [
              0.1111111111111111,
              "#46039f"
             ],
             [
              0.2222222222222222,
              "#7201a8"
             ],
             [
              0.3333333333333333,
              "#9c179e"
             ],
             [
              0.4444444444444444,
              "#bd3786"
             ],
             [
              0.5555555555555556,
              "#d8576b"
             ],
             [
              0.6666666666666666,
              "#ed7953"
             ],
             [
              0.7777777777777778,
              "#fb9f3a"
             ],
             [
              0.8888888888888888,
              "#fdca26"
             ],
             [
              1,
              "#f0f921"
             ]
            ],
            "type": "histogram2dcontour"
           }
          ],
          "mesh3d": [
           {
            "colorbar": {
             "outlinewidth": 0,
             "ticks": ""
            },
            "type": "mesh3d"
           }
          ],
          "parcoords": [
           {
            "line": {
             "colorbar": {
              "outlinewidth": 0,
              "ticks": ""
             }
            },
            "type": "parcoords"
           }
          ],
          "pie": [
           {
            "automargin": true,
            "type": "pie"
           }
          ],
          "scatter": [
           {
            "fillpattern": {
             "fillmode": "overlay",
             "size": 10,
             "solidity": 0.2
            },
            "type": "scatter"
           }
          ],
          "scatter3d": [
           {
            "line": {
             "colorbar": {
              "outlinewidth": 0,
              "ticks": ""
             }
            },
            "marker": {
             "colorbar": {
              "outlinewidth": 0,
              "ticks": ""
             }
            },
            "type": "scatter3d"
           }
          ],
          "scattercarpet": [
           {
            "marker": {
             "colorbar": {
              "outlinewidth": 0,
              "ticks": ""
             }
            },
            "type": "scattercarpet"
           }
          ],
          "scattergeo": [
           {
            "marker": {
             "colorbar": {
              "outlinewidth": 0,
              "ticks": ""
             }
            },
            "type": "scattergeo"
           }
          ],
          "scattergl": [
           {
            "marker": {
             "colorbar": {
              "outlinewidth": 0,
              "ticks": ""
             }
            },
            "type": "scattergl"
           }
          ],
          "scattermapbox": [
           {
            "marker": {
             "colorbar": {
              "outlinewidth": 0,
              "ticks": ""
             }
            },
            "type": "scattermapbox"
           }
          ],
          "scatterpolar": [
           {
            "marker": {
             "colorbar": {
              "outlinewidth": 0,
              "ticks": ""
             }
            },
            "type": "scatterpolar"
           }
          ],
          "scatterpolargl": [
           {
            "marker": {
             "colorbar": {
              "outlinewidth": 0,
              "ticks": ""
             }
            },
            "type": "scatterpolargl"
           }
          ],
          "scatterternary": [
           {
            "marker": {
             "colorbar": {
              "outlinewidth": 0,
              "ticks": ""
             }
            },
            "type": "scatterternary"
           }
          ],
          "surface": [
           {
            "colorbar": {
             "outlinewidth": 0,
             "ticks": ""
            },
            "colorscale": [
             [
              0,
              "#0d0887"
             ],
             [
              0.1111111111111111,
              "#46039f"
             ],
             [
              0.2222222222222222,
              "#7201a8"
             ],
             [
              0.3333333333333333,
              "#9c179e"
             ],
             [
              0.4444444444444444,
              "#bd3786"
             ],
             [
              0.5555555555555556,
              "#d8576b"
             ],
             [
              0.6666666666666666,
              "#ed7953"
             ],
             [
              0.7777777777777778,
              "#fb9f3a"
             ],
             [
              0.8888888888888888,
              "#fdca26"
             ],
             [
              1,
              "#f0f921"
             ]
            ],
            "type": "surface"
           }
          ],
          "table": [
           {
            "cells": {
             "fill": {
              "color": "#EBF0F8"
             },
             "line": {
              "color": "white"
             }
            },
            "header": {
             "fill": {
              "color": "#C8D4E3"
             },
             "line": {
              "color": "white"
             }
            },
            "type": "table"
           }
          ]
         },
         "layout": {
          "annotationdefaults": {
           "arrowcolor": "#2a3f5f",
           "arrowhead": 0,
           "arrowwidth": 1
          },
          "autotypenumbers": "strict",
          "coloraxis": {
           "colorbar": {
            "outlinewidth": 0,
            "ticks": ""
           }
          },
          "colorscale": {
           "diverging": [
            [
             0,
             "#8e0152"
            ],
            [
             0.1,
             "#c51b7d"
            ],
            [
             0.2,
             "#de77ae"
            ],
            [
             0.3,
             "#f1b6da"
            ],
            [
             0.4,
             "#fde0ef"
            ],
            [
             0.5,
             "#f7f7f7"
            ],
            [
             0.6,
             "#e6f5d0"
            ],
            [
             0.7,
             "#b8e186"
            ],
            [
             0.8,
             "#7fbc41"
            ],
            [
             0.9,
             "#4d9221"
            ],
            [
             1,
             "#276419"
            ]
           ],
           "sequential": [
            [
             0,
             "#0d0887"
            ],
            [
             0.1111111111111111,
             "#46039f"
            ],
            [
             0.2222222222222222,
             "#7201a8"
            ],
            [
             0.3333333333333333,
             "#9c179e"
            ],
            [
             0.4444444444444444,
             "#bd3786"
            ],
            [
             0.5555555555555556,
             "#d8576b"
            ],
            [
             0.6666666666666666,
             "#ed7953"
            ],
            [
             0.7777777777777778,
             "#fb9f3a"
            ],
            [
             0.8888888888888888,
             "#fdca26"
            ],
            [
             1,
             "#f0f921"
            ]
           ],
           "sequentialminus": [
            [
             0,
             "#0d0887"
            ],
            [
             0.1111111111111111,
             "#46039f"
            ],
            [
             0.2222222222222222,
             "#7201a8"
            ],
            [
             0.3333333333333333,
             "#9c179e"
            ],
            [
             0.4444444444444444,
             "#bd3786"
            ],
            [
             0.5555555555555556,
             "#d8576b"
            ],
            [
             0.6666666666666666,
             "#ed7953"
            ],
            [
             0.7777777777777778,
             "#fb9f3a"
            ],
            [
             0.8888888888888888,
             "#fdca26"
            ],
            [
             1,
             "#f0f921"
            ]
           ]
          },
          "colorway": [
           "#636efa",
           "#EF553B",
           "#00cc96",
           "#ab63fa",
           "#FFA15A",
           "#19d3f3",
           "#FF6692",
           "#B6E880",
           "#FF97FF",
           "#FECB52"
          ],
          "font": {
           "color": "#2a3f5f"
          },
          "geo": {
           "bgcolor": "white",
           "lakecolor": "white",
           "landcolor": "#E5ECF6",
           "showlakes": true,
           "showland": true,
           "subunitcolor": "white"
          },
          "hoverlabel": {
           "align": "left"
          },
          "hovermode": "closest",
          "mapbox": {
           "style": "light"
          },
          "paper_bgcolor": "white",
          "plot_bgcolor": "#E5ECF6",
          "polar": {
           "angularaxis": {
            "gridcolor": "white",
            "linecolor": "white",
            "ticks": ""
           },
           "bgcolor": "#E5ECF6",
           "radialaxis": {
            "gridcolor": "white",
            "linecolor": "white",
            "ticks": ""
           }
          },
          "scene": {
           "xaxis": {
            "backgroundcolor": "#E5ECF6",
            "gridcolor": "white",
            "gridwidth": 2,
            "linecolor": "white",
            "showbackground": true,
            "ticks": "",
            "zerolinecolor": "white"
           },
           "yaxis": {
            "backgroundcolor": "#E5ECF6",
            "gridcolor": "white",
            "gridwidth": 2,
            "linecolor": "white",
            "showbackground": true,
            "ticks": "",
            "zerolinecolor": "white"
           },
           "zaxis": {
            "backgroundcolor": "#E5ECF6",
            "gridcolor": "white",
            "gridwidth": 2,
            "linecolor": "white",
            "showbackground": true,
            "ticks": "",
            "zerolinecolor": "white"
           }
          },
          "shapedefaults": {
           "line": {
            "color": "#2a3f5f"
           }
          },
          "ternary": {
           "aaxis": {
            "gridcolor": "white",
            "linecolor": "white",
            "ticks": ""
           },
           "baxis": {
            "gridcolor": "white",
            "linecolor": "white",
            "ticks": ""
           },
           "bgcolor": "#E5ECF6",
           "caxis": {
            "gridcolor": "white",
            "linecolor": "white",
            "ticks": ""
           }
          },
          "title": {
           "x": 0.05
          },
          "xaxis": {
           "automargin": true,
           "gridcolor": "white",
           "linecolor": "white",
           "ticks": "",
           "title": {
            "standoff": 15
           },
           "zerolinecolor": "white",
           "zerolinewidth": 2
          },
          "yaxis": {
           "automargin": true,
           "gridcolor": "white",
           "linecolor": "white",
           "ticks": "",
           "title": {
            "standoff": 15
           },
           "zerolinecolor": "white",
           "zerolinewidth": 2
          }
         }
        },
        "title": {
         "text": "Spending by Payment Mode"
        }
       }
      }
     },
     "metadata": {},
     "output_type": "display_data"
    },
    {
     "data": {
      "application/vnd.plotly.v1+json": {
       "config": {
        "plotlyServerURL": "https://plot.ly"
       },
       "data": [
        {
         "hovertemplate": "Date=%{x}<br>Amount=%{y}<extra></extra>",
         "legendgroup": "",
         "line": {
          "color": "#636efa",
          "dash": "solid"
         },
         "marker": {
          "symbol": "circle"
         },
         "mode": "lines",
         "name": "",
         "orientation": "v",
         "showlegend": false,
         "type": "scatter",
         "x": [
          "2024-01-01T00:00:00",
          "2024-01-02T00:00:00",
          "2024-01-03T00:00:00",
          "2024-01-04T00:00:00",
          "2024-01-05T00:00:00",
          "2024-01-06T00:00:00",
          "2024-01-07T00:00:00",
          "2024-01-08T00:00:00",
          "2024-01-09T00:00:00",
          "2024-01-10T00:00:00",
          "2024-01-11T00:00:00",
          "2024-01-12T00:00:00",
          "2024-01-13T00:00:00",
          "2024-01-14T00:00:00",
          "2024-01-15T00:00:00",
          "2024-01-16T00:00:00",
          "2024-01-17T00:00:00",
          "2024-01-18T00:00:00",
          "2024-01-19T00:00:00",
          "2024-01-20T00:00:00",
          "2024-01-21T00:00:00",
          "2024-01-22T00:00:00",
          "2024-01-23T00:00:00",
          "2024-01-24T00:00:00",
          "2024-01-25T00:00:00",
          "2024-01-26T00:00:00",
          "2024-01-27T00:00:00",
          "2024-01-28T00:00:00",
          "2024-01-29T00:00:00",
          "2024-01-30T00:00:00",
          "2024-02-01T00:00:00",
          "2024-02-02T00:00:00",
          "2024-02-03T00:00:00",
          "2024-02-04T00:00:00",
          "2024-02-05T00:00:00",
          "2024-02-06T00:00:00",
          "2024-02-07T00:00:00",
          "2024-02-08T00:00:00",
          "2024-02-09T00:00:00",
          "2024-02-10T00:00:00",
          "2024-02-11T00:00:00",
          "2024-02-12T00:00:00",
          "2024-02-13T00:00:00",
          "2024-02-14T00:00:00",
          "2024-02-15T00:00:00",
          "2024-02-16T00:00:00",
          "2024-02-17T00:00:00",
          "2024-02-18T00:00:00",
          "2024-02-19T00:00:00",
          "2024-02-20T00:00:00",
          "2024-02-21T00:00:00",
          "2024-02-22T00:00:00",
          "2024-02-23T00:00:00",
          "2024-02-24T00:00:00",
          "2024-02-25T00:00:00",
          "2024-02-26T00:00:00",
          "2024-02-27T00:00:00",
          "2024-02-28T00:00:00",
          "2024-03-01T00:00:00",
          "2024-03-02T00:00:00",
          "2024-03-03T00:00:00",
          "2024-03-04T00:00:00",
          "2024-03-05T00:00:00",
          "2024-03-06T00:00:00",
          "2024-03-07T00:00:00",
          "2024-03-08T00:00:00",
          "2024-03-09T00:00:00",
          "2024-03-10T00:00:00",
          "2024-03-11T00:00:00",
          "2024-03-12T00:00:00",
          "2024-03-13T00:00:00",
          "2024-03-14T00:00:00",
          "2024-03-15T00:00:00",
          "2024-03-16T00:00:00",
          "2024-03-17T00:00:00",
          "2024-03-18T00:00:00",
          "2024-03-19T00:00:00",
          "2024-03-20T00:00:00",
          "2024-03-21T00:00:00",
          "2024-03-22T00:00:00",
          "2024-03-23T00:00:00",
          "2024-03-24T00:00:00",
          "2024-03-25T00:00:00",
          "2024-03-26T00:00:00",
          "2024-03-27T00:00:00",
          "2024-03-28T00:00:00",
          "2024-03-29T00:00:00",
          "2024-03-30T00:00:00",
          "2024-04-01T00:00:00",
          "2024-04-02T00:00:00",
          "2024-04-03T00:00:00",
          "2024-04-04T00:00:00",
          "2024-04-05T00:00:00",
          "2024-04-06T00:00:00",
          "2024-04-07T00:00:00",
          "2024-04-08T00:00:00",
          "2024-04-09T00:00:00",
          "2024-04-10T00:00:00",
          "2024-04-11T00:00:00",
          "2024-04-12T00:00:00",
          "2024-04-13T00:00:00",
          "2024-04-14T00:00:00",
          "2024-04-15T00:00:00",
          "2024-04-16T00:00:00",
          "2024-04-17T00:00:00",
          "2024-04-18T00:00:00",
          "2024-04-19T00:00:00",
          "2024-04-20T00:00:00",
          "2024-04-21T00:00:00",
          "2024-04-22T00:00:00",
          "2024-04-23T00:00:00",
          "2024-04-24T00:00:00",
          "2024-04-25T00:00:00",
          "2024-04-26T00:00:00",
          "2024-04-27T00:00:00",
          "2024-04-28T00:00:00",
          "2024-04-29T00:00:00",
          "2024-05-01T00:00:00",
          "2024-05-02T00:00:00",
          "2024-05-03T00:00:00",
          "2024-05-04T00:00:00",
          "2024-05-05T00:00:00",
          "2024-05-06T00:00:00",
          "2024-05-07T00:00:00",
          "2024-05-08T00:00:00",
          "2024-05-09T00:00:00",
          "2024-05-10T00:00:00",
          "2024-05-11T00:00:00",
          "2024-05-12T00:00:00",
          "2024-05-13T00:00:00",
          "2024-05-14T00:00:00",
          "2024-05-15T00:00:00",
          "2024-05-16T00:00:00",
          "2024-05-17T00:00:00",
          "2024-05-18T00:00:00",
          "2024-05-19T00:00:00",
          "2024-05-20T00:00:00",
          "2024-05-21T00:00:00",
          "2024-05-22T00:00:00",
          "2024-05-23T00:00:00",
          "2024-05-24T00:00:00",
          "2024-05-25T00:00:00",
          "2024-05-26T00:00:00",
          "2024-05-27T00:00:00",
          "2024-05-28T00:00:00",
          "2024-05-29T00:00:00",
          "2024-05-30T00:00:00",
          "2024-06-01T00:00:00",
          "2024-06-02T00:00:00",
          "2024-06-03T00:00:00",
          "2024-06-04T00:00:00",
          "2024-06-05T00:00:00",
          "2024-06-06T00:00:00",
          "2024-06-08T00:00:00",
          "2024-06-09T00:00:00",
          "2024-06-10T00:00:00",
          "2024-06-11T00:00:00",
          "2024-06-12T00:00:00",
          "2024-06-13T00:00:00",
          "2024-06-14T00:00:00",
          "2024-06-15T00:00:00",
          "2024-06-16T00:00:00",
          "2024-06-17T00:00:00",
          "2024-06-18T00:00:00",
          "2024-06-19T00:00:00",
          "2024-06-20T00:00:00",
          "2024-06-21T00:00:00",
          "2024-06-22T00:00:00",
          "2024-06-23T00:00:00",
          "2024-06-24T00:00:00",
          "2024-06-25T00:00:00",
          "2024-06-26T00:00:00",
          "2024-06-27T00:00:00",
          "2024-06-28T00:00:00",
          "2024-06-29T00:00:00",
          "2024-07-01T00:00:00",
          "2024-07-02T00:00:00",
          "2024-07-03T00:00:00",
          "2024-07-04T00:00:00",
          "2024-07-05T00:00:00",
          "2024-07-06T00:00:00",
          "2024-07-07T00:00:00",
          "2024-07-08T00:00:00",
          "2024-07-09T00:00:00",
          "2024-07-10T00:00:00",
          "2024-07-11T00:00:00",
          "2024-07-12T00:00:00",
          "2024-07-13T00:00:00",
          "2024-07-14T00:00:00",
          "2024-07-15T00:00:00",
          "2024-07-16T00:00:00",
          "2024-07-17T00:00:00",
          "2024-07-18T00:00:00",
          "2024-07-19T00:00:00",
          "2024-07-20T00:00:00",
          "2024-07-21T00:00:00",
          "2024-07-22T00:00:00",
          "2024-07-23T00:00:00",
          "2024-07-24T00:00:00",
          "2024-07-25T00:00:00",
          "2024-07-26T00:00:00",
          "2024-07-27T00:00:00",
          "2024-07-28T00:00:00",
          "2024-07-29T00:00:00",
          "2024-07-30T00:00:00",
          "2024-08-01T00:00:00",
          "2024-08-02T00:00:00",
          "2024-08-03T00:00:00",
          "2024-08-04T00:00:00",
          "2024-08-05T00:00:00",
          "2024-08-06T00:00:00",
          "2024-08-07T00:00:00",
          "2024-08-08T00:00:00",
          "2024-08-09T00:00:00",
          "2024-08-10T00:00:00",
          "2024-08-11T00:00:00",
          "2024-08-12T00:00:00",
          "2024-08-13T00:00:00",
          "2024-08-14T00:00:00",
          "2024-08-15T00:00:00",
          "2024-08-16T00:00:00",
          "2024-08-17T00:00:00",
          "2024-08-18T00:00:00",
          "2024-08-19T00:00:00",
          "2024-08-20T00:00:00",
          "2024-08-21T00:00:00",
          "2024-08-22T00:00:00",
          "2024-08-23T00:00:00",
          "2024-08-24T00:00:00",
          "2024-08-25T00:00:00",
          "2024-08-26T00:00:00",
          "2024-08-27T00:00:00",
          "2024-08-28T00:00:00",
          "2024-08-29T00:00:00",
          "2024-08-30T00:00:00",
          "2024-09-01T00:00:00",
          "2024-09-02T00:00:00",
          "2024-09-03T00:00:00",
          "2024-09-04T00:00:00",
          "2024-09-05T00:00:00",
          "2024-09-06T00:00:00",
          "2024-09-07T00:00:00",
          "2024-09-08T00:00:00",
          "2024-09-09T00:00:00",
          "2024-09-10T00:00:00",
          "2024-09-11T00:00:00",
          "2024-09-12T00:00:00",
          "2024-09-13T00:00:00",
          "2024-09-14T00:00:00",
          "2024-09-15T00:00:00",
          "2024-09-16T00:00:00",
          "2024-09-17T00:00:00",
          "2024-09-18T00:00:00",
          "2024-09-19T00:00:00",
          "2024-09-20T00:00:00",
          "2024-09-21T00:00:00",
          "2024-09-22T00:00:00",
          "2024-09-23T00:00:00",
          "2024-09-24T00:00:00",
          "2024-09-25T00:00:00",
          "2024-09-26T00:00:00",
          "2024-09-27T00:00:00",
          "2024-09-28T00:00:00",
          "2024-09-29T00:00:00",
          "2024-10-01T00:00:00",
          "2024-10-02T00:00:00",
          "2024-10-03T00:00:00",
          "2024-10-04T00:00:00",
          "2024-10-05T00:00:00",
          "2024-10-06T00:00:00",
          "2024-10-07T00:00:00",
          "2024-10-08T00:00:00",
          "2024-10-09T00:00:00",
          "2024-10-10T00:00:00",
          "2024-10-11T00:00:00",
          "2024-10-12T00:00:00",
          "2024-10-13T00:00:00",
          "2024-10-14T00:00:00",
          "2024-10-15T00:00:00",
          "2024-10-16T00:00:00",
          "2024-10-17T00:00:00",
          "2024-10-18T00:00:00",
          "2024-10-19T00:00:00",
          "2024-10-20T00:00:00",
          "2024-10-21T00:00:00",
          "2024-10-22T00:00:00",
          "2024-10-23T00:00:00",
          "2024-10-24T00:00:00",
          "2024-10-25T00:00:00",
          "2024-10-26T00:00:00",
          "2024-10-27T00:00:00",
          "2024-10-28T00:00:00",
          "2024-10-29T00:00:00",
          "2024-10-30T00:00:00",
          "2024-11-01T00:00:00",
          "2024-11-02T00:00:00",
          "2024-11-03T00:00:00",
          "2024-11-04T00:00:00",
          "2024-11-05T00:00:00",
          "2024-11-06T00:00:00",
          "2024-11-07T00:00:00",
          "2024-11-08T00:00:00",
          "2024-11-09T00:00:00",
          "2024-11-10T00:00:00",
          "2024-11-11T00:00:00",
          "2024-11-12T00:00:00",
          "2024-11-13T00:00:00",
          "2024-11-14T00:00:00",
          "2024-11-15T00:00:00",
          "2024-11-16T00:00:00",
          "2024-11-17T00:00:00",
          "2024-11-18T00:00:00",
          "2024-11-19T00:00:00",
          "2024-11-20T00:00:00",
          "2024-11-21T00:00:00",
          "2024-11-22T00:00:00",
          "2024-11-23T00:00:00",
          "2024-11-24T00:00:00",
          "2024-11-25T00:00:00",
          "2024-11-26T00:00:00",
          "2024-11-27T00:00:00",
          "2024-11-28T00:00:00",
          "2024-11-29T00:00:00",
          "2024-12-01T00:00:00",
          "2024-12-02T00:00:00",
          "2024-12-03T00:00:00",
          "2024-12-04T00:00:00",
          "2024-12-05T00:00:00",
          "2024-12-06T00:00:00",
          "2024-12-07T00:00:00",
          "2024-12-08T00:00:00",
          "2024-12-09T00:00:00",
          "2024-12-10T00:00:00",
          "2024-12-11T00:00:00",
          "2024-12-12T00:00:00",
          "2024-12-13T00:00:00",
          "2024-12-14T00:00:00",
          "2024-12-15T00:00:00",
          "2024-12-16T00:00:00",
          "2024-12-17T00:00:00",
          "2024-12-18T00:00:00",
          "2024-12-19T00:00:00",
          "2024-12-20T00:00:00",
          "2024-12-21T00:00:00",
          "2024-12-22T00:00:00",
          "2024-12-23T00:00:00",
          "2024-12-24T00:00:00",
          "2024-12-25T00:00:00",
          "2024-12-26T00:00:00",
          "2024-12-27T00:00:00",
          "2024-12-28T00:00:00",
          "2024-12-29T00:00:00",
          "2024-12-30T00:00:00"
         ],
         "xaxis": "x",
         "y": [
          3593.3,
          3920.21,
          2248.92,
          788.94,
          3384.87,
          1902.5,
          829.07,
          3373.79,
          3667.51,
          2169.76,
          3148.93,
          1449.04,
          1391.3200000000002,
          925.6,
          2949.12,
          1761.69,
          1748.32,
          2387.26,
          2092.81,
          2982.66,
          3793.7200000000003,
          444.34000000000003,
          709.06,
          4665.91,
          2980.37,
          2865.11,
          3062.21,
          4038.85,
          2878.46,
          2954.82,
          4247.89,
          1727.5500000000002,
          1624.72,
          2138.54,
          5198.37,
          2190.41,
          1312.1100000000001,
          2448.65,
          2433.51,
          882.24,
          1301.19,
          4641.05,
          2362.44,
          4207.96,
          4817.87,
          1916.1100000000001,
          2115.11,
          2912.53,
          4783.11,
          2573.59,
          2794.3,
          3758.06,
          4985.29,
          3832.88,
          5213.92,
          1321.02,
          1680.84,
          2664.27,
          2322.89,
          2338.72,
          1478.49,
          3551.24,
          2435.99,
          2186.7,
          3277.5,
          3370.33,
          5268.29,
          3376.16,
          5917.65,
          1847.57,
          2514.67,
          2622.09,
          4459.64,
          787.03,
          3595.08,
          1460.1799999999998,
          2114.9,
          3331.73,
          4998.57,
          1863.15,
          2627.06,
          1657.3899999999999,
          3622.55,
          2768.9900000000002,
          2192.22,
          2353.2,
          587.96,
          2677.02,
          2437.61,
          1487.1,
          1753.02,
          2059.79,
          2147.62,
          1448.28,
          4140.24,
          1304.5,
          1253.07,
          1764.18,
          3699.12,
          1184.3899999999999,
          1006.3000000000001,
          2867.35,
          2968.61,
          2286.27,
          2038.38,
          5454.95,
          1056.79,
          3708.45,
          2768.7200000000003,
          2436.9,
          1980.8999999999999,
          2271.25,
          2962.57,
          2473.62,
          5663.06,
          976.8299999999999,
          4013.17,
          1161.58,
          3568.52,
          2833.92,
          4155.09,
          3548.15,
          2421.77,
          1939.68,
          1304.55,
          6083.2,
          3541.78,
          2893.4300000000003,
          2148.1,
          1821.42,
          1315.1599999999999,
          2036.4499999999998,
          1863.6499999999999,
          1846.55,
          3919.38,
          3191.36,
          3184.52,
          1835.68,
          797.59,
          2507.63,
          633.94,
          199.25,
          3166.28,
          2870.25,
          907.2,
          2029.98,
          3757.12,
          2376.81,
          1597.21,
          149,
          2365.35,
          6186.24,
          572.6899999999999,
          2254.17,
          2063.6,
          3795.02,
          1528.77,
          2334.88,
          3321.45,
          2164.16,
          1895.72,
          1908.95,
          3561.5699999999997,
          2044.96,
          1293.48,
          3447.08,
          3216.58,
          2988.5,
          3237.43,
          2438.06,
          2593.5,
          2834.6200000000003,
          2322,
          1613.9099999999999,
          3357.52,
          4671.21,
          3285.44,
          6483.53,
          3188.42,
          1003.7,
          1981.48,
          3533.69,
          1700.3400000000001,
          2739.17,
          2993.6400000000003,
          3240.79,
          511.7,
          3793.1,
          1486.89,
          4852.64,
          731.7,
          155.11,
          3722.0299999999997,
          1555.99,
          2365.27,
          674.42,
          2218.51,
          1965.44,
          1745.65,
          2293.08,
          5152.9,
          4107.38,
          2647.86,
          2685.7,
          844.12,
          3843.8500000000004,
          3237.36,
          4109.22,
          355.53999999999996,
          2688.2599999999998,
          2687.87,
          2939.7,
          4096.639999999999,
          388.85,
          3868.99,
          1746.34,
          1629.5300000000002,
          3102.55,
          4477.44,
          2477.35,
          695.5600000000001,
          828.33,
          1707.49,
          1802.05,
          3350.13,
          3354.05,
          2087.45,
          5746.68,
          3095.98,
          2172.28,
          1174.0100000000002,
          2640.71,
          1517.02,
          1225.24,
          4612.76,
          2356.55,
          2979.39,
          4577.68,
          72.13,
          2751.71,
          3897.67,
          1793.16,
          1930.25,
          4092.1,
          3268,
          1545.65,
          2978.61,
          3695.05,
          1147.75,
          3969.7,
          4810.71,
          3512.1,
          2164.63,
          172.21,
          1978.8400000000001,
          4131.49,
          2336.93,
          3583.18,
          2918.34,
          1946.1599999999999,
          2903.52,
          3133.66,
          3463.14,
          1273.76,
          1840.38,
          1714.02,
          2101.67,
          3100.02,
          327.16,
          2397.59,
          2246.9,
          5857.11,
          1631.93,
          715.64,
          3047.65,
          3845.3,
          2883.31,
          4122.22,
          2215.8900000000003,
          4250.54,
          1868.8,
          635.35,
          1829.01,
          2671.5299999999997,
          2590.74,
          2331.39,
          2795.9,
          2015.6499999999999,
          2438.31,
          4146.86,
          854.12,
          4125.67,
          2249.84,
          3861.2,
          3317.15,
          3689.74,
          3134.45,
          1360.27,
          4857.2,
          3518.83,
          1576.6299999999999,
          3387.0099999999998,
          505.49,
          3846.46,
          2237.44,
          898.23,
          1773.9899999999998,
          1928.18,
          6025.46,
          1866.49,
          2568.71,
          1519.06,
          2324.94,
          151.8,
          2408.56,
          4415.17,
          2435.18,
          1901.3,
          3716,
          2742.32,
          2635.16,
          2517.27,
          4435.67,
          1467.71,
          2482.62,
          2440.36,
          4447.75,
          2610.5,
          3586.63,
          1553.69,
          3683.15,
          2178.88,
          2948.06,
          2828.04,
          2310.09,
          2728.4,
          3476.5,
          3441.2,
          2439.14,
          3709.41,
          1701.44,
          2967.72,
          1639.53,
          3917.01,
          2561.73,
          4019.87,
          3362.02,
          1014.78,
          3455.93,
          3822.4700000000003,
          2660.35,
          2785.49,
          377.42999999999995
         ],
         "yaxis": "y"
        }
       ],
       "layout": {
        "legend": {
         "tracegroupgap": 0
        },
        "template": {
         "data": {
          "bar": [
           {
            "error_x": {
             "color": "#2a3f5f"
            },
            "error_y": {
             "color": "#2a3f5f"
            },
            "marker": {
             "line": {
              "color": "#E5ECF6",
              "width": 0.5
             },
             "pattern": {
              "fillmode": "overlay",
              "size": 10,
              "solidity": 0.2
             }
            },
            "type": "bar"
           }
          ],
          "barpolar": [
           {
            "marker": {
             "line": {
              "color": "#E5ECF6",
              "width": 0.5
             },
             "pattern": {
              "fillmode": "overlay",
              "size": 10,
              "solidity": 0.2
             }
            },
            "type": "barpolar"
           }
          ],
          "carpet": [
           {
            "aaxis": {
             "endlinecolor": "#2a3f5f",
             "gridcolor": "white",
             "linecolor": "white",
             "minorgridcolor": "white",
             "startlinecolor": "#2a3f5f"
            },
            "baxis": {
             "endlinecolor": "#2a3f5f",
             "gridcolor": "white",
             "linecolor": "white",
             "minorgridcolor": "white",
             "startlinecolor": "#2a3f5f"
            },
            "type": "carpet"
           }
          ],
          "choropleth": [
           {
            "colorbar": {
             "outlinewidth": 0,
             "ticks": ""
            },
            "type": "choropleth"
           }
          ],
          "contour": [
           {
            "colorbar": {
             "outlinewidth": 0,
             "ticks": ""
            },
            "colorscale": [
             [
              0,
              "#0d0887"
             ],
             [
              0.1111111111111111,
              "#46039f"
             ],
             [
              0.2222222222222222,
              "#7201a8"
             ],
             [
              0.3333333333333333,
              "#9c179e"
             ],
             [
              0.4444444444444444,
              "#bd3786"
             ],
             [
              0.5555555555555556,
              "#d8576b"
             ],
             [
              0.6666666666666666,
              "#ed7953"
             ],
             [
              0.7777777777777778,
              "#fb9f3a"
             ],
             [
              0.8888888888888888,
              "#fdca26"
             ],
             [
              1,
              "#f0f921"
             ]
            ],
            "type": "contour"
           }
          ],
          "contourcarpet": [
           {
            "colorbar": {
             "outlinewidth": 0,
             "ticks": ""
            },
            "type": "contourcarpet"
           }
          ],
          "heatmap": [
           {
            "colorbar": {
             "outlinewidth": 0,
             "ticks": ""
            },
            "colorscale": [
             [
              0,
              "#0d0887"
             ],
             [
              0.1111111111111111,
              "#46039f"
             ],
             [
              0.2222222222222222,
              "#7201a8"
             ],
             [
              0.3333333333333333,
              "#9c179e"
             ],
             [
              0.4444444444444444,
              "#bd3786"
             ],
             [
              0.5555555555555556,
              "#d8576b"
             ],
             [
              0.6666666666666666,
              "#ed7953"
             ],
             [
              0.7777777777777778,
              "#fb9f3a"
             ],
             [
              0.8888888888888888,
              "#fdca26"
             ],
             [
              1,
              "#f0f921"
             ]
            ],
            "type": "heatmap"
           }
          ],
          "heatmapgl": [
           {
            "colorbar": {
             "outlinewidth": 0,
             "ticks": ""
            },
            "colorscale": [
             [
              0,
              "#0d0887"
             ],
             [
              0.1111111111111111,
              "#46039f"
             ],
             [
              0.2222222222222222,
              "#7201a8"
             ],
             [
              0.3333333333333333,
              "#9c179e"
             ],
             [
              0.4444444444444444,
              "#bd3786"
             ],
             [
              0.5555555555555556,
              "#d8576b"
             ],
             [
              0.6666666666666666,
              "#ed7953"
             ],
             [
              0.7777777777777778,
              "#fb9f3a"
             ],
             [
              0.8888888888888888,
              "#fdca26"
             ],
             [
              1,
              "#f0f921"
             ]
            ],
            "type": "heatmapgl"
           }
          ],
          "histogram": [
           {
            "marker": {
             "pattern": {
              "fillmode": "overlay",
              "size": 10,
              "solidity": 0.2
             }
            },
            "type": "histogram"
           }
          ],
          "histogram2d": [
           {
            "colorbar": {
             "outlinewidth": 0,
             "ticks": ""
            },
            "colorscale": [
             [
              0,
              "#0d0887"
             ],
             [
              0.1111111111111111,
              "#46039f"
             ],
             [
              0.2222222222222222,
              "#7201a8"
             ],
             [
              0.3333333333333333,
              "#9c179e"
             ],
             [
              0.4444444444444444,
              "#bd3786"
             ],
             [
              0.5555555555555556,
              "#d8576b"
             ],
             [
              0.6666666666666666,
              "#ed7953"
             ],
             [
              0.7777777777777778,
              "#fb9f3a"
             ],
             [
              0.8888888888888888,
              "#fdca26"
             ],
             [
              1,
              "#f0f921"
             ]
            ],
            "type": "histogram2d"
           }
          ],
          "histogram2dcontour": [
           {
            "colorbar": {
             "outlinewidth": 0,
             "ticks": ""
            },
            "colorscale": [
             [
              0,
              "#0d0887"
             ],
             [
              0.1111111111111111,
              "#46039f"
             ],
             [
              0.2222222222222222,
              "#7201a8"
             ],
             [
              0.3333333333333333,
              "#9c179e"
             ],
             [
              0.4444444444444444,
              "#bd3786"
             ],
             [
              0.5555555555555556,
              "#d8576b"
             ],
             [
              0.6666666666666666,
              "#ed7953"
             ],
             [
              0.7777777777777778,
              "#fb9f3a"
             ],
             [
              0.8888888888888888,
              "#fdca26"
             ],
             [
              1,
              "#f0f921"
             ]
            ],
            "type": "histogram2dcontour"
           }
          ],
          "mesh3d": [
           {
            "colorbar": {
             "outlinewidth": 0,
             "ticks": ""
            },
            "type": "mesh3d"
           }
          ],
          "parcoords": [
           {
            "line": {
             "colorbar": {
              "outlinewidth": 0,
              "ticks": ""
             }
            },
            "type": "parcoords"
           }
          ],
          "pie": [
           {
            "automargin": true,
            "type": "pie"
           }
          ],
          "scatter": [
           {
            "fillpattern": {
             "fillmode": "overlay",
             "size": 10,
             "solidity": 0.2
            },
            "type": "scatter"
           }
          ],
          "scatter3d": [
           {
            "line": {
             "colorbar": {
              "outlinewidth": 0,
              "ticks": ""
             }
            },
            "marker": {
             "colorbar": {
              "outlinewidth": 0,
              "ticks": ""
             }
            },
            "type": "scatter3d"
           }
          ],
          "scattercarpet": [
           {
            "marker": {
             "colorbar": {
              "outlinewidth": 0,
              "ticks": ""
             }
            },
            "type": "scattercarpet"
           }
          ],
          "scattergeo": [
           {
            "marker": {
             "colorbar": {
              "outlinewidth": 0,
              "ticks": ""
             }
            },
            "type": "scattergeo"
           }
          ],
          "scattergl": [
           {
            "marker": {
             "colorbar": {
              "outlinewidth": 0,
              "ticks": ""
             }
            },
            "type": "scattergl"
           }
          ],
          "scattermapbox": [
           {
            "marker": {
             "colorbar": {
              "outlinewidth": 0,
              "ticks": ""
             }
            },
            "type": "scattermapbox"
           }
          ],
          "scatterpolar": [
           {
            "marker": {
             "colorbar": {
              "outlinewidth": 0,
              "ticks": ""
             }
            },
            "type": "scatterpolar"
           }
          ],
          "scatterpolargl": [
           {
            "marker": {
             "colorbar": {
              "outlinewidth": 0,
              "ticks": ""
             }
            },
            "type": "scatterpolargl"
           }
          ],
          "scatterternary": [
           {
            "marker": {
             "colorbar": {
              "outlinewidth": 0,
              "ticks": ""
             }
            },
            "type": "scatterternary"
           }
          ],
          "surface": [
           {
            "colorbar": {
             "outlinewidth": 0,
             "ticks": ""
            },
            "colorscale": [
             [
              0,
              "#0d0887"
             ],
             [
              0.1111111111111111,
              "#46039f"
             ],
             [
              0.2222222222222222,
              "#7201a8"
             ],
             [
              0.3333333333333333,
              "#9c179e"
             ],
             [
              0.4444444444444444,
              "#bd3786"
             ],
             [
              0.5555555555555556,
              "#d8576b"
             ],
             [
              0.6666666666666666,
              "#ed7953"
             ],
             [
              0.7777777777777778,
              "#fb9f3a"
             ],
             [
              0.8888888888888888,
              "#fdca26"
             ],
             [
              1,
              "#f0f921"
             ]
            ],
            "type": "surface"
           }
          ],
          "table": [
           {
            "cells": {
             "fill": {
              "color": "#EBF0F8"
             },
             "line": {
              "color": "white"
             }
            },
            "header": {
             "fill": {
              "color": "#C8D4E3"
             },
             "line": {
              "color": "white"
             }
            },
            "type": "table"
           }
          ]
         },
         "layout": {
          "annotationdefaults": {
           "arrowcolor": "#2a3f5f",
           "arrowhead": 0,
           "arrowwidth": 1
          },
          "autotypenumbers": "strict",
          "coloraxis": {
           "colorbar": {
            "outlinewidth": 0,
            "ticks": ""
           }
          },
          "colorscale": {
           "diverging": [
            [
             0,
             "#8e0152"
            ],
            [
             0.1,
             "#c51b7d"
            ],
            [
             0.2,
             "#de77ae"
            ],
            [
             0.3,
             "#f1b6da"
            ],
            [
             0.4,
             "#fde0ef"
            ],
            [
             0.5,
             "#f7f7f7"
            ],
            [
             0.6,
             "#e6f5d0"
            ],
            [
             0.7,
             "#b8e186"
            ],
            [
             0.8,
             "#7fbc41"
            ],
            [
             0.9,
             "#4d9221"
            ],
            [
             1,
             "#276419"
            ]
           ],
           "sequential": [
            [
             0,
             "#0d0887"
            ],
            [
             0.1111111111111111,
             "#46039f"
            ],
            [
             0.2222222222222222,
             "#7201a8"
            ],
            [
             0.3333333333333333,
             "#9c179e"
            ],
            [
             0.4444444444444444,
             "#bd3786"
            ],
            [
             0.5555555555555556,
             "#d8576b"
            ],
            [
             0.6666666666666666,
             "#ed7953"
            ],
            [
             0.7777777777777778,
             "#fb9f3a"
            ],
            [
             0.8888888888888888,
             "#fdca26"
            ],
            [
             1,
             "#f0f921"
            ]
           ],
           "sequentialminus": [
            [
             0,
             "#0d0887"
            ],
            [
             0.1111111111111111,
             "#46039f"
            ],
            [
             0.2222222222222222,
             "#7201a8"
            ],
            [
             0.3333333333333333,
             "#9c179e"
            ],
            [
             0.4444444444444444,
             "#bd3786"
            ],
            [
             0.5555555555555556,
             "#d8576b"
            ],
            [
             0.6666666666666666,
             "#ed7953"
            ],
            [
             0.7777777777777778,
             "#fb9f3a"
            ],
            [
             0.8888888888888888,
             "#fdca26"
            ],
            [
             1,
             "#f0f921"
            ]
           ]
          },
          "colorway": [
           "#636efa",
           "#EF553B",
           "#00cc96",
           "#ab63fa",
           "#FFA15A",
           "#19d3f3",
           "#FF6692",
           "#B6E880",
           "#FF97FF",
           "#FECB52"
          ],
          "font": {
           "color": "#2a3f5f"
          },
          "geo": {
           "bgcolor": "white",
           "lakecolor": "white",
           "landcolor": "#E5ECF6",
           "showlakes": true,
           "showland": true,
           "subunitcolor": "white"
          },
          "hoverlabel": {
           "align": "left"
          },
          "hovermode": "closest",
          "mapbox": {
           "style": "light"
          },
          "paper_bgcolor": "white",
          "plot_bgcolor": "#E5ECF6",
          "polar": {
           "angularaxis": {
            "gridcolor": "white",
            "linecolor": "white",
            "ticks": ""
           },
           "bgcolor": "#E5ECF6",
           "radialaxis": {
            "gridcolor": "white",
            "linecolor": "white",
            "ticks": ""
           }
          },
          "scene": {
           "xaxis": {
            "backgroundcolor": "#E5ECF6",
            "gridcolor": "white",
            "gridwidth": 2,
            "linecolor": "white",
            "showbackground": true,
            "ticks": "",
            "zerolinecolor": "white"
           },
           "yaxis": {
            "backgroundcolor": "#E5ECF6",
            "gridcolor": "white",
            "gridwidth": 2,
            "linecolor": "white",
            "showbackground": true,
            "ticks": "",
            "zerolinecolor": "white"
           },
           "zaxis": {
            "backgroundcolor": "#E5ECF6",
            "gridcolor": "white",
            "gridwidth": 2,
            "linecolor": "white",
            "showbackground": true,
            "ticks": "",
            "zerolinecolor": "white"
           }
          },
          "shapedefaults": {
           "line": {
            "color": "#2a3f5f"
           }
          },
          "ternary": {
           "aaxis": {
            "gridcolor": "white",
            "linecolor": "white",
            "ticks": ""
           },
           "baxis": {
            "gridcolor": "white",
            "linecolor": "white",
            "ticks": ""
           },
           "bgcolor": "#E5ECF6",
           "caxis": {
            "gridcolor": "white",
            "linecolor": "white",
            "ticks": ""
           }
          },
          "title": {
           "x": 0.05
          },
          "xaxis": {
           "automargin": true,
           "gridcolor": "white",
           "linecolor": "white",
           "ticks": "",
           "title": {
            "standoff": 15
           },
           "zerolinecolor": "white",
           "zerolinewidth": 2
          },
          "yaxis": {
           "automargin": true,
           "gridcolor": "white",
           "linecolor": "white",
           "ticks": "",
           "title": {
            "standoff": 15
           },
           "zerolinecolor": "white",
           "zerolinewidth": 2
          }
         }
        },
        "title": {
         "text": "Interactive Daily Spending Trend"
        },
        "xaxis": {
         "anchor": "y",
         "domain": [
          0,
          1
         ],
         "title": {
          "text": "Date"
         }
        },
        "yaxis": {
         "anchor": "x",
         "domain": [
          0,
          1
         ],
         "title": {
          "text": "Amount"
         }
        }
       }
      }
     },
     "metadata": {},
     "output_type": "display_data"
    }
   ],
   "source": [
    "import pandas as pd\n",
    "import matplotlib.pyplot as plt\n",
    "import seaborn as sns\n",
    "import plotly.express as px\n",
    "import plotly.graph_objects as go\n",
    "\n",
    "# Ensure the 'Date' column is in datetime format\n",
    "combined_df['Date'] = pd.to_datetime(combined_df['Date'])\n",
    "\n",
    "# --------------------------------------------\n",
    "# 1. Basic Exploration\n",
    "# --------------------------------------------\n",
    "def basic_exploration(df):\n",
    "    print(\"Dataset Info:\")\n",
    "    print(df.info())  # Overview of dataset\n",
    "    print(\"\\nMissing Values:\\n\", df.isnull().sum())  # Check missing values\n",
    "    print(\"\\nStatistical Summary:\\n\", df.describe(include='all'))  # Summary of numerical and categorical data\n",
    "    print(\"\\nSample Data:\\n\", df.head())  # Display first 5 rows\n",
    "\n",
    "# Run basic exploration\n",
    "basic_exploration(combined_df)\n",
    "\n",
    "# --------------------------------------------\n",
    "# 2. Distribution Analysis\n",
    "# --------------------------------------------\n",
    "def plot_distributions(df):\n",
    "    # Distribution of Amount\n",
    "    plt.figure(figsize=(10, 6))\n",
    "    sns.histplot(df['Amount'], kde=True, bins=30, color='blue')\n",
    "    plt.title(\"Distribution of Amount\")\n",
    "    plt.xlabel(\"Amount\")\n",
    "    plt.ylabel(\"Frequency\")\n",
    "    plt.show()\n",
    "\n",
    "    # Boxplot of Amount by Category\n",
    "    plt.figure(figsize=(12, 6))\n",
    "    sns.boxplot(x='Category', y='Amount', data=df, palette=\"Set3\")\n",
    "    plt.title(\"Amount by Category\")\n",
    "    plt.xticks(rotation=45)\n",
    "    plt.show()\n",
    "\n",
    "# Run distribution analysis\n",
    "plot_distributions(combined_df)\n",
    "\n",
    "# --------------------------------------------\n",
    "# 3. Spending Trends Over Time\n",
    "# --------------------------------------------\n",
    "def plot_spending_trends(df):\n",
    "    # Daily Spending Trend\n",
    "    daily_spending = df.groupby('Date')['Amount'].sum().reset_index()\n",
    "    plt.figure(figsize=(12, 6))\n",
    "    plt.plot(daily_spending['Date'], daily_spending['Amount'], marker='o', linestyle='-', color='green')\n",
    "    plt.title(\"Daily Spending Trend\")\n",
    "    plt.xlabel(\"Date\")\n",
    "    plt.ylabel(\"Total Amount\")\n",
    "    plt.grid(True)\n",
    "    plt.show()\n",
    "\n",
    "    # Monthly Spending Trend\n",
    "    df['Month'] = df['Date'].dt.to_period('M')\n",
    "    monthly_spending = df.groupby('Month')['Amount'].sum().reset_index()\n",
    "    monthly_spending['Month'] = monthly_spending['Month'].astype(str)\n",
    "    plt.figure(figsize=(12, 6))\n",
    "    sns.barplot(x='Month', y='Amount', data=monthly_spending, palette=\"viridis\")\n",
    "    plt.title(\"Monthly Spending Trend\")\n",
    "    plt.xticks(rotation=45)\n",
    "    plt.xlabel(\"Month\")\n",
    "    plt.ylabel(\"Total Amount\")\n",
    "    plt.show()\n",
    "\n",
    "# Run spending trend analysis\n",
    "plot_spending_trends(combined_df)\n",
    "\n",
    "# --------------------------------------------\n",
    "# 4. Spending Analysis by Category and Payment Mode\n",
    "# --------------------------------------------\n",
    "def spending_analysis(df):\n",
    "    # Spending by Category\n",
    "    category_spending = df.groupby('Category')['Amount'].sum().sort_values(ascending=False).reset_index()\n",
    "    plt.figure(figsize=(10, 6))\n",
    "    sns.barplot(data=category_spending, x='Amount', y='Category', palette=\"Blues_r\")\n",
    "    plt.title(\"Spending by Category\")\n",
    "    plt.xlabel(\"Total Amount\")\n",
    "    plt.ylabel(\"Category\")\n",
    "    plt.show()\n",
    "\n",
    "    # Spending by Payment Mode\n",
    "    payment_mode_spending = df.groupby('Payment_Mode')['Amount'].sum().sort_values(ascending=False).reset_index()\n",
    "    plt.figure(figsize=(10, 6))\n",
    "    sns.barplot(data=payment_mode_spending, x='Amount', y='Payment_Mode', palette=\"Purples_r\")\n",
    "    plt.title(\"Spending by Payment Mode\")\n",
    "    plt.xlabel(\"Total Amount\")\n",
    "    plt.ylabel(\"Payment Mode\")\n",
    "    plt.show()\n",
    "\n",
    "    # Spending by Individuals\n",
    "    name_spending = df.groupby('Name')['Amount'].sum().sort_values(ascending=False).reset_index()\n",
    "    plt.figure(figsize=(10, 6))\n",
    "    sns.barplot(data=name_spending, x='Amount', y='Name', palette=\"Greens_r\")\n",
    "    plt.title(\"Spending by Individuals\")\n",
    "    plt.xlabel(\"Total Amount\")\n",
    "    plt.ylabel(\"Name\")\n",
    "    plt.show()\n",
    "\n",
    "# Run spending analysis\n",
    "spending_analysis(combined_df)\n",
    "\n",
    "# --------------------------------------------\n",
    "# 5. Correlation Analysis\n",
    "# --------------------------------------------\n",
    "def plot_correlation(df):\n",
    "    # Correlation Heatmap\n",
    "    plt.figure(figsize=(8, 6))\n",
    "    sns.heatmap(df.corr(numeric_only=True), annot=True, cmap=\"coolwarm\", fmt=\".2f\", linewidths=0.5)\n",
    "    plt.title(\"Correlation Heatmap\")\n",
    "    plt.show()\n",
    "\n",
    "# Run correlation analysis\n",
    "plot_correlation(combined_df)\n",
    "\n",
    "# --------------------------------------------\n",
    "# 6. Outlier Detection\n",
    "# --------------------------------------------\n",
    "def plot_outliers(df):\n",
    "    # Boxplot to visualize outliers\n",
    "    plt.figure(figsize=(10, 6))\n",
    "    sns.boxplot(data=df, x='Amount', palette=\"Set2\")\n",
    "    plt.title(\"Outliers in Amount\")\n",
    "    plt.xlabel(\"Amount\")\n",
    "    plt.show()\n",
    "\n",
    "# Run outlier detection\n",
    "plot_outliers(combined_df)\n",
    "\n",
    "# --------------------------------------------\n",
    "# 7. Interactive Visualizations (Optional)\n",
    "# --------------------------------------------\n",
    "def interactive_visualizations(df):\n",
    "    # Interactive Spending by Category\n",
    "    fig1 = px.bar(df.groupby('Category')['Amount'].sum().reset_index(), \n",
    "                  x='Category', y='Amount', color='Category', \n",
    "                  title=\"Interactive Spending by Category\")\n",
    "    fig1.show()\n",
    "\n",
    "    # Interactive Pie Chart for Payment Modes\n",
    "    fig2 = px.pie(df, values='Amount', names='Payment_Mode', title=\"Spending by Payment Mode\")\n",
    "    fig2.show()\n",
    "\n",
    "    # Interactive Time Series Plot\n",
    "    daily_spending = df.groupby('Date')['Amount'].sum().reset_index()\n",
    "    fig3 = px.line(daily_spending, x='Date', y='Amount', title=\"Interactive Daily Spending Trend\")\n",
    "    fig3.show()\n",
    "\n",
    "# Run interactive visualizations\n",
    "interactive_visualizations(combined_df)"
   ]
  }
 ],
 "metadata": {
  "kernelspec": {
   "display_name": "Python 3",
   "language": "python",
   "name": "python3"
  },
  "language_info": {
   "codemirror_mode": {
    "name": "ipython",
    "version": 3
   },
   "file_extension": ".py",
   "mimetype": "text/x-python",
   "name": "python",
   "nbconvert_exporter": "python",
   "pygments_lexer": "ipython3",
   "version": "3.13.1"
  }
 },
 "nbformat": 4,
 "nbformat_minor": 2
}
